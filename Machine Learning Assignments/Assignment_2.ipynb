{
 "cells": [
  {
   "cell_type": "markdown",
   "id": "112c1551",
   "metadata": {},
   "source": [
    "### 1. What is the concept of human learning? Please give two examples.\n",
    "    > Both machine and humans learns by:\n",
    "    * data - acquiring experiences, \n",
    "    * repetition. \n",
    "\n",
    "### 2. What different forms of human learning are there? Are there any machine learning equivalents?\n",
    "    * HUMAN concept learning - supervised ml classification\n",
    "    * HUMAN Hebban learning - unsupervised ml, ann (finding similar properties)\n",
    "    * HUMAN operang conditioning - reinforcement learning\n",
    "\n",
    "### 3. What is machine learning, and how does it work? What are the key responsibilities of machine learning?\n",
    "\n",
    "\n",
    "### 4. Define the terms \"penalty\" and \"reward\" in the context of reinforcement learning.\n",
    "\n",
    "\n",
    "### 5. Explain the term \"learning as a search\"?\n",
    "\n",
    "\n",
    "### 6. What are the various goals of machine learning? What is the relationship between these and human learning?\n",
    "\n",
    "\n",
    "### 7. Illustrate the various elements of machine learning using a real-life illustration.\n",
    "\n",
    "\n",
    "### 8. Provide an example of the abstraction method.\n",
    "\n",
    "\n",
    "### 9. What is the concept of generalization? What function does it play in the machine learning process?\n",
    "\n",
    "\n",
    "### 10. What is classification, exactly? What are the main distinctions between classification and regression?\n",
    "\n",
    "\n",
    "### 11. What is regression, and how does it work? Give an example of a real-world problem that was solved using regression.\n",
    "\n",
    "\n",
    "### 12. Describe the clustering mechanism in detail.\n",
    "\n",
    "\n",
    "### 13. Make brief observations on two of the following topics:\n",
    "i. Machine learning algorithms are used\n",
    "ii. Studying under supervision\n",
    "iii. Studying without supervision\n",
    "iv. Reinforcement learning is a form of learning based on positive reinforcement.\n"
   ]
  }
 ],
 "metadata": {
  "kernelspec": {
   "display_name": "Python 3 (ipykernel)",
   "language": "python",
   "name": "python3"
  },
  "language_info": {
   "codemirror_mode": {
    "name": "ipython",
    "version": 3
   },
   "file_extension": ".py",
   "mimetype": "text/x-python",
   "name": "python",
   "nbconvert_exporter": "python",
   "pygments_lexer": "ipython3",
   "version": "3.9.7"
  }
 },
 "nbformat": 4,
 "nbformat_minor": 5
}
