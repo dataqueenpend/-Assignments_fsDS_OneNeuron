{
 "cells": [
  {
   "cell_type": "markdown",
   "id": "112c1551",
   "metadata": {},
   "source": [
    "### 1. What is the concept of human learning? Please give two examples.\n",
    "    > Both machine and humans learns by:\n",
    "    * data - acquiring experiences, \n",
    "    * repetition. \n",
    "\n",
    "### 2. What different forms of human learning are there? Are there any machine learning equivalents?\n",
    "    * HUMAN concept learning - supervised ml classification\n",
    "    * HUMAN Hebban learning - unsupervised ml, ann (finding similar properties)\n",
    "    * HUMAN operang conditioning - reinforcement learning\n",
    "\n",
    "### 3. What is machine learning, and how does it work? What are the key responsibilities of machine learning?\n",
    "    > Machine learning is a subset of AI. It allows the software to learn without much supervision from a human and make accurate predictions of the issued case. The key responsibility of a machine learning is to empower human by limiting their impact on the tasks, while in the same time finding out more robust solutions.\n",
    "\n",
    "### 4. Define the terms \"penalty\" and \"reward\" in the context of reinforcement learning.\n",
    "    * Penalty - when agent receives punishments for performing wrong actions\n",
    "    * Reward - when agent receives reward for correct moves\n",
    "\n",
    "### 5. Explain the term \"learning as a search\"?\n",
    "    > Algorithms are searching for the patterns that best desribes the training data.\n",
    "\n",
    "### 6. What are the various goals of machine learning? What is the relationship between these and human learning?\n",
    "    * To make computers smarter and able to resolve practical tasks in their domains.\n",
    "    * To mimic the human learning process (cognitive modeling). \n",
    "    * To explore new learning methods and develop existing general learning algorithms, not only for the application purposes.\n",
    "\n",
    "### 7. Illustrate the various elements of machine learning using a real-life illustration.\n",
    "    * Representation. It is how the model looks like and how the knowledge received upon training is represented. In human learning we can ilustrate it like what like is the human, what does she/he have to say after receiving, for example, education in the field of medicine. \n",
    "    * Evaluation. A measurement of the quality of models predictions. Going with our student real life example, it is like we evaluate the quality of the student studies. We test it in different ways and try to check if the student learning gave any positive results. \n",
    "    * Optimization. Process of finding best models for the current problem. In real life we also search for the best people for the job. Student studies and testing on university it is not equal to the fact, that this student will also be best fit for the actual vacancy.\n",
    "\n",
    "\n",
    "### 8. Provide an example of the abstraction method.\n",
    "    * Abstraction is a seperation of ideas from implementation of this idea. Abstract method is defined, but not put into motion. Because of the growth of the AI, people in the field, don't focus their work so much on the 'how to implement the AI', but rather 'what kind of AI implement in this specific case'. \n",
    "\n",
    "\n",
    "### 9. What is the concept of generalization? What function does it play in the machine learning process?\n",
    "\n",
    "\n",
    "### 10. What is classification, exactly? What are the main distinctions between classification and regression?\n",
    "\n",
    "\n",
    "### 11. What is regression, and how does it work? Give an example of a real-world problem that was solved using regression.\n",
    "\n",
    "\n",
    "### 12. Describe the clustering mechanism in detail.\n",
    "\n",
    "\n",
    "### 13. Make brief observations on two of the following topics:\n",
    "i. Machine learning algorithms are used\n",
    "ii. Studying under supervision\n",
    "iii. Studying without supervision\n",
    "iv. Reinforcement learning is a form of learning based on positive reinforcement.\n"
   ]
  }
 ],
 "metadata": {
  "kernelspec": {
   "display_name": "Python 3 (ipykernel)",
   "language": "python",
   "name": "python3"
  },
  "language_info": {
   "codemirror_mode": {
    "name": "ipython",
    "version": 3
   },
   "file_extension": ".py",
   "mimetype": "text/x-python",
   "name": "python",
   "nbconvert_exporter": "python",
   "pygments_lexer": "ipython3",
   "version": "3.9.12"
  }
 },
 "nbformat": 4,
 "nbformat_minor": 5
}
