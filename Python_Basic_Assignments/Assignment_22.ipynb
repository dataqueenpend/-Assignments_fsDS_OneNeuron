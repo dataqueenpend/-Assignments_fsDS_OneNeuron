{
 "cells": [
  {
   "cell_type": "markdown",
   "id": "3fd295ec",
   "metadata": {},
   "source": [
    "### 1. What is the result of the code, and explain?\n",
    "\n",
    "    X = 'INeuron'\n",
    "    def func():\n",
    "print(X)\n",
    "    func()\n",
    "    \n",
    "> Output of the code is indentation error. The has inproper indentation and cannot be executed. "
   ]
  },
  {
   "cell_type": "markdown",
   "id": "ed4898c2",
   "metadata": {},
   "source": [
    "### 2. What is the result of the code, and explain?\n",
    "\n",
    "X = 'INeuron'\n",
    "def func():\n",
    "    X='N!'\n",
    "func()\n",
    "print(X)\n",
    "\n",
    "\n",
    "> This code also had identation errors. But I think that you would not ask about identation errors multiple times. Rather than for the orderof the code execution etc. So, I corrected the identations. \n",
    "    > Code prints only INeuron string, because it is the only printable command in this code. Function func() is only storing the string N! and doesn't print it out."
   ]
  },
  {
   "cell_type": "markdown",
   "id": "b3c00df3",
   "metadata": {},
   "source": [
    "### 3. What does this code print, and why?\n",
    "\n",
    "X = 'iNeuron'\n",
    "def func():\n",
    "    X='NI'\n",
    "    print(X)\n",
    "\n",
    "func()\n",
    "print(X)\n",
    "\n",
    "> Code outputs first the string stored inside the function func() - NI, and then outputs the string iNeuron. It happens because of the code order and because both strings are an arguments of the print function."
   ]
  },
  {
   "cell_type": "markdown",
   "id": "565a01a0",
   "metadata": {},
   "source": [
    "### 4. What output does this code produce? Why?\n",
    "\n",
    "X = 'iNeuron'\n",
    "def func():\n",
    "    global X\n",
    "    X = 'NI'\n",
    "\n",
    "func()\n",
    "print(X)\n",
    "\n",
    "> Code prints string NI. Inside the function func the gloabl value of X was changed to NI. print(X) is the only print statement in above program, so there is only one output. "
   ]
  },
  {
   "cell_type": "markdown",
   "id": "7ea6e23d",
   "metadata": {},
   "source": [
    "### 5. What output does this code produce? Why?\n",
    "\n",
    "X = 'iNeuron'\n",
    "def func():\n",
    "    X = 'NI'\n",
    "    def nested():\n",
    "        print(X)\n",
    "    nested()\n",
    "\n",
    "func()\n",
    "X\n",
    "\n",
    "> Code outputs NI and iNueron - in this specific order. First print is nested in the function with the same name (nested()), which prints the value of X. The value of X was overwritten in the function func(), and the call of the function is written inside the function with overwritten X. Because of that value of X is the same as the overwritten value of X.\n",
    "    > Print of iNeuron is printed because of the global value of X, was not changed. The value of X was changed only inside the function. "
   ]
  },
  {
   "cell_type": "markdown",
   "id": "46b60a96",
   "metadata": {},
   "source": [
    "### 5. What output does this code produce? Why?\n",
    "\n",
    "def func():\n",
    "    X=\"NI\"\n",
    "    def nested():\n",
    "        nonlocal X\n",
    "        X = 'Spam'\n",
    "    nested()\n",
    "    print(X)\n",
    "\n",
    "func()\n",
    "\n",
    "> It only print Spam because inside nested function the value of X is overwritten. "
   ]
  }
 ],
 "metadata": {
  "kernelspec": {
   "display_name": "Python 3 (ipykernel)",
   "language": "python",
   "name": "python3"
  },
  "language_info": {
   "codemirror_mode": {
    "name": "ipython",
    "version": 3
   },
   "file_extension": ".py",
   "mimetype": "text/x-python",
   "name": "python",
   "nbconvert_exporter": "python",
   "pygments_lexer": "ipython3",
   "version": "3.9.7"
  }
 },
 "nbformat": 4,
 "nbformat_minor": 5
}
