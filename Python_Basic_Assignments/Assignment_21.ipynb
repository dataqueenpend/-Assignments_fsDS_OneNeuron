{
 "cells": [
  {
   "cell_type": "markdown",
   "id": "a95f9888",
   "metadata": {},
   "source": [
    "### 1. Add the current date to the text file today.txt as a string."
   ]
  },
  {
   "cell_type": "code",
   "execution_count": 4,
   "id": "c3cb01c8",
   "metadata": {},
   "outputs": [],
   "source": [
    "import datetime\n",
    "x = datetime.datetime.now()\n",
    "x = str(x)"
   ]
  },
  {
   "cell_type": "code",
   "execution_count": 5,
   "id": "8570c0c6",
   "metadata": {},
   "outputs": [],
   "source": [
    "w = open('today.txt', 'w')\n",
    "w.write(x)\n",
    "w.close()"
   ]
  },
  {
   "cell_type": "markdown",
   "id": "f62e8c87",
   "metadata": {},
   "source": [
    "### 2. Read the text file today.txt into the string today_string"
   ]
  },
  {
   "cell_type": "code",
   "execution_count": 8,
   "id": "ba781d47",
   "metadata": {},
   "outputs": [],
   "source": [
    "t_open = open('today.txt', 'r')\n",
    "today_string = t_open.read()"
   ]
  },
  {
   "cell_type": "markdown",
   "id": "a0b86bf9",
   "metadata": {},
   "source": [
    "### 3. Parse the date from today_string."
   ]
  },
  {
   "cell_type": "code",
   "execution_count": 9,
   "id": "a5543a74",
   "metadata": {},
   "outputs": [
    {
     "data": {
      "text/plain": [
       "'2022-03-25 19:26:33.243368'"
      ]
     },
     "execution_count": 9,
     "metadata": {},
     "output_type": "execute_result"
    }
   ],
   "source": [
    "today_string"
   ]
  },
  {
   "cell_type": "code",
   "execution_count": 27,
   "id": "51f9193a",
   "metadata": {},
   "outputs": [],
   "source": [
    "import re\n",
    "from datetime import datetime\n",
    "date = re.search(r'\\d{4}-\\d+-\\d+', today_string)"
   ]
  },
  {
   "cell_type": "code",
   "execution_count": 28,
   "id": "0e4ecd87",
   "metadata": {},
   "outputs": [],
   "source": [
    "d_to_date = datetime.strptime(date.group(), '%Y-%m-%d').date()"
   ]
  },
  {
   "cell_type": "code",
   "execution_count": 34,
   "id": "158dc7ff",
   "metadata": {},
   "outputs": [],
   "source": [
    "y = d_to_date.year\n",
    "m = d_to_date.month\n",
    "d = d_to_date.day"
   ]
  },
  {
   "cell_type": "code",
   "execution_count": 35,
   "id": "a63184d7",
   "metadata": {},
   "outputs": [
    {
     "data": {
      "text/plain": [
       "(2022, 3, 25)"
      ]
     },
     "execution_count": 35,
     "metadata": {},
     "output_type": "execute_result"
    }
   ],
   "source": [
    "y, m, d"
   ]
  },
  {
   "cell_type": "markdown",
   "id": "edf00222",
   "metadata": {},
   "source": [
    "### 4. List the files in your current directory"
   ]
  },
  {
   "cell_type": "code",
   "execution_count": 53,
   "id": "08ba7e6e",
   "metadata": {},
   "outputs": [
    {
     "data": {
      "text/plain": [
       "[' Assignment_12.ipynb',\n",
       " '.git',\n",
       " '.ipynb_checkpoints',\n",
       " 'acutedoggo.png',\n",
       " 'Assignment_10.ipynb',\n",
       " 'Assignment_11.ipynb',\n",
       " 'Assignment_13.ipynb',\n",
       " 'Assignment_14.ipynb',\n",
       " 'Assignment_15.ipynb',\n",
       " 'Assignment_16.ipynb',\n",
       " 'Assignment_17.ipynb',\n",
       " 'Assignment_18.ipynb',\n",
       " 'Assignment_19.ipynb',\n",
       " 'Assignment_20.ipynb',\n",
       " 'Assignment_21.ipynb',\n",
       " 'Assignment_8.ipynb',\n",
       " 'Assignment_9.ipynb',\n",
       " 'books.csv',\n",
       " 'books.db',\n",
       " 'books.txt',\n",
       " 'books_csv.csv',\n",
       " 'cropped_doggo.jpg',\n",
       " 'test.txt',\n",
       " 'today.txt',\n",
       " 'zooooos.py',\n",
       " '__pycache__']"
      ]
     },
     "execution_count": 53,
     "metadata": {},
     "output_type": "execute_result"
    }
   ],
   "source": [
    "import os\n",
    "os.listdir(os.curdir)"
   ]
  },
  {
   "cell_type": "markdown",
   "id": "269479d9",
   "metadata": {},
   "source": [
    "### 5. Create a list of all of the files in your parent directory (minimum five files should be available)."
   ]
  },
  {
   "cell_type": "code",
   "execution_count": 55,
   "id": "83bf354e",
   "metadata": {},
   "outputs": [],
   "source": [
    "l_dir = os.listdir(os.curdir)"
   ]
  },
  {
   "cell_type": "code",
   "execution_count": 56,
   "id": "74f868fe",
   "metadata": {},
   "outputs": [
    {
     "data": {
      "text/plain": [
       "[' Assignment_12.ipynb',\n",
       " '.git',\n",
       " '.ipynb_checkpoints',\n",
       " 'acutedoggo.png',\n",
       " 'Assignment_10.ipynb',\n",
       " 'Assignment_11.ipynb',\n",
       " 'Assignment_13.ipynb',\n",
       " 'Assignment_14.ipynb',\n",
       " 'Assignment_15.ipynb',\n",
       " 'Assignment_16.ipynb',\n",
       " 'Assignment_17.ipynb',\n",
       " 'Assignment_18.ipynb',\n",
       " 'Assignment_19.ipynb',\n",
       " 'Assignment_20.ipynb',\n",
       " 'Assignment_21.ipynb',\n",
       " 'Assignment_8.ipynb',\n",
       " 'Assignment_9.ipynb',\n",
       " 'books.csv',\n",
       " 'books.db',\n",
       " 'books.txt',\n",
       " 'books_csv.csv',\n",
       " 'cropped_doggo.jpg',\n",
       " 'test.txt',\n",
       " 'today.txt',\n",
       " 'zooooos.py',\n",
       " '__pycache__']"
      ]
     },
     "execution_count": 56,
     "metadata": {},
     "output_type": "execute_result"
    }
   ],
   "source": [
    "l_dir"
   ]
  },
  {
   "cell_type": "markdown",
   "id": "33220937",
   "metadata": {},
   "source": [
    "### 6. Use multiprocessing to create three separate processes. Make each one wait a random number of seconds between one and five, print the current time, and then exit."
   ]
  }
 ],
 "metadata": {
  "kernelspec": {
   "display_name": "Python 3 (ipykernel)",
   "language": "python",
   "name": "python3"
  },
  "language_info": {
   "codemirror_mode": {
    "name": "ipython",
    "version": 3
   },
   "file_extension": ".py",
   "mimetype": "text/x-python",
   "name": "python",
   "nbconvert_exporter": "python",
   "pygments_lexer": "ipython3",
   "version": "3.9.7"
  }
 },
 "nbformat": 4,
 "nbformat_minor": 5
}
