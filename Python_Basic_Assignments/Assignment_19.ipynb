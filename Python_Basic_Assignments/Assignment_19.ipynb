{
 "cells": [
  {
   "cell_type": "markdown",
   "id": "1c991aa4",
   "metadata": {},
   "source": [
    "### 1. Make a class called Thing with no contents and print it. Then, create an object called example from this class and also print it. Are the printed values the same or different?"
   ]
  },
  {
   "cell_type": "code",
   "execution_count": 1,
   "id": "16ef40d9",
   "metadata": {},
   "outputs": [],
   "source": [
    "class Thing():\n",
    "    pass"
   ]
  },
  {
   "cell_type": "code",
   "execution_count": 2,
   "id": "faef9ccd",
   "metadata": {},
   "outputs": [
    {
     "data": {
      "text/plain": [
       "<__main__.Thing at 0x1b30eef3be0>"
      ]
     },
     "execution_count": 2,
     "metadata": {},
     "output_type": "execute_result"
    }
   ],
   "source": [
    "Thing()"
   ]
  },
  {
   "cell_type": "code",
   "execution_count": 4,
   "id": "4180c056",
   "metadata": {},
   "outputs": [],
   "source": [
    "example = Thing()"
   ]
  },
  {
   "cell_type": "code",
   "execution_count": 5,
   "id": "aa4efee5",
   "metadata": {},
   "outputs": [
    {
     "data": {
      "text/plain": [
       "<__main__.Thing at 0x1b30eef39a0>"
      ]
     },
     "execution_count": 5,
     "metadata": {},
     "output_type": "execute_result"
    }
   ],
   "source": [
    "example"
   ]
  },
  {
   "cell_type": "markdown",
   "id": "1b3b6efa",
   "metadata": {},
   "source": [
    "Same. "
   ]
  },
  {
   "cell_type": "markdown",
   "id": "b77d8899",
   "metadata": {},
   "source": [
    "### 2. Create a new class called Thing2 and add the value 'abc' to the letters class attribute. Letters should be printed."
   ]
  },
  {
   "cell_type": "code",
   "execution_count": 15,
   "id": "73616a22",
   "metadata": {},
   "outputs": [],
   "source": [
    "class Thing2():\n",
    "    letters = 'abc'"
   ]
  },
  {
   "cell_type": "code",
   "execution_count": 16,
   "id": "0980a29f",
   "metadata": {},
   "outputs": [
    {
     "data": {
      "text/plain": [
       "'abc'"
      ]
     },
     "execution_count": 16,
     "metadata": {},
     "output_type": "execute_result"
    }
   ],
   "source": [
    "Thing2().letters"
   ]
  },
  {
   "cell_type": "markdown",
   "id": "30289e8c",
   "metadata": {},
   "source": [
    "### 3. Make yet another class called, of course, Thing3. This time, assign the value 'xyz' to an instance (object) attribute called letters. Print letters. Do you need to make an object from the class to do this?"
   ]
  },
  {
   "cell_type": "code",
   "execution_count": 9,
   "id": "7b768e78",
   "metadata": {},
   "outputs": [],
   "source": [
    "class Thing3():\n",
    "    letters = 'xyz'"
   ]
  },
  {
   "cell_type": "code",
   "execution_count": 13,
   "id": "c58fce62",
   "metadata": {},
   "outputs": [
    {
     "name": "stdout",
     "output_type": "stream",
     "text": [
      "xyz\n"
     ]
    }
   ],
   "source": [
    "printing_obj = Thing3()\n",
    "print(printing_obj.letters)"
   ]
  },
  {
   "cell_type": "code",
   "execution_count": 17,
   "id": "909e0ff5",
   "metadata": {},
   "outputs": [
    {
     "data": {
      "text/plain": [
       "'xyz'"
      ]
     },
     "execution_count": 17,
     "metadata": {},
     "output_type": "execute_result"
    }
   ],
   "source": [
    "Thing3().letters"
   ]
  },
  {
   "cell_type": "code",
   "execution_count": 19,
   "id": "df811c5f",
   "metadata": {},
   "outputs": [
    {
     "data": {
      "text/plain": [
       "(str, str)"
      ]
     },
     "execution_count": 19,
     "metadata": {},
     "output_type": "execute_result"
    }
   ],
   "source": [
    "type(Thing3().letters), type(printing_obj.letters)"
   ]
  },
  {
   "cell_type": "markdown",
   "id": "d5499b34",
   "metadata": {},
   "source": [
    "I don't need to. But I can. "
   ]
  },
  {
   "cell_type": "markdown",
   "id": "96d18942",
   "metadata": {},
   "source": [
    "### 4. Create an Element class with the instance attributes name, symbol, and number. Create a class object with the values 'Hydrogen,' 'H,' and 1."
   ]
  },
  {
   "cell_type": "code",
   "execution_count": 20,
   "id": "e427ad6f",
   "metadata": {},
   "outputs": [],
   "source": [
    "class Element():\n",
    "    def __init__(self, name, symbol, number):\n",
    "        self.name = name\n",
    "        self.symbol = symbol\n",
    "        self.number = number"
   ]
  },
  {
   "cell_type": "code",
   "execution_count": 22,
   "id": "50632e90",
   "metadata": {},
   "outputs": [],
   "source": [
    "element_object = Element('Hydrogen', 'H', 1)"
   ]
  },
  {
   "cell_type": "markdown",
   "id": "72c8fa3e",
   "metadata": {},
   "source": [
    "### 5. Make a dictionary with these keys and values: 'name': 'Hydrogen', 'symbol': 'H', 'number': 1. Then, create an object called hydrogen from class Element using this dictionary."
   ]
  },
  {
   "cell_type": "code",
   "execution_count": 35,
   "id": "c1d11be8",
   "metadata": {},
   "outputs": [],
   "source": [
    "d = {'name': 'Hydrogen', 'symbol': 'H', 'number': 1}"
   ]
  },
  {
   "cell_type": "code",
   "execution_count": 39,
   "id": "ae508ee0",
   "metadata": {},
   "outputs": [],
   "source": [
    "hydrogen = Element(d.get('name'), d.get('symbol'), d.get('number'))"
   ]
  },
  {
   "cell_type": "code",
   "execution_count": 41,
   "id": "cbc75b37",
   "metadata": {},
   "outputs": [
    {
     "data": {
      "text/plain": [
       "'Hydrogen'"
      ]
     },
     "execution_count": 41,
     "metadata": {},
     "output_type": "execute_result"
    }
   ],
   "source": [
    "hydrogen.name"
   ]
  },
  {
   "cell_type": "markdown",
   "id": "8b61ec34",
   "metadata": {},
   "source": [
    "### 6. For the Element class, define a method called dump() that prints the values of the object’s attributes (name, symbol, and number). Create the hydrogen object from this new definition and use dump() to print its attributes."
   ]
  },
  {
   "cell_type": "code",
   "execution_count": 42,
   "id": "12e2e83c",
   "metadata": {},
   "outputs": [],
   "source": [
    "class Element():\n",
    "    def __init__(self, name, symbol, number):\n",
    "        self.name = name\n",
    "        self.symbol = symbol\n",
    "        self.number = number\n",
    "    \n",
    "    def dump(self):\n",
    "        print(self.name, self.symbol, self.number)"
   ]
  },
  {
   "cell_type": "code",
   "execution_count": 43,
   "id": "4ce7125e",
   "metadata": {},
   "outputs": [],
   "source": [
    "hydrogen = Element(d.get('name'), d.get('symbol'), d.get('number'))"
   ]
  },
  {
   "cell_type": "code",
   "execution_count": 44,
   "id": "5f205855",
   "metadata": {},
   "outputs": [
    {
     "name": "stdout",
     "output_type": "stream",
     "text": [
      "Hydrogen H 1\n"
     ]
    }
   ],
   "source": [
    "hydrogen.dump()"
   ]
  },
  {
   "cell_type": "markdown",
   "id": "12fa2b09",
   "metadata": {},
   "source": [
    "### 7. Call print(hydrogen). In the definition of Element, change the name of method dump to __str__, create a new hydrogen object, and call print(hydrogen) again."
   ]
  },
  {
   "cell_type": "code",
   "execution_count": 45,
   "id": "1f7257dd",
   "metadata": {},
   "outputs": [],
   "source": [
    "class Element():\n",
    "    def __init__(self, name, symbol, number):\n",
    "        self.name = name\n",
    "        self.symbol = symbol\n",
    "        self.number = number\n",
    "    \n",
    "    def __str__(self):\n",
    "        print(self.name, self.symbol, self.number)\n",
    "        "
   ]
  },
  {
   "cell_type": "code",
   "execution_count": 46,
   "id": "ddceabe0",
   "metadata": {},
   "outputs": [],
   "source": [
    "hydrogen = Element(d.get('name'), d.get('symbol'), d.get('number'))"
   ]
  },
  {
   "cell_type": "code",
   "execution_count": 48,
   "id": "123673cd",
   "metadata": {},
   "outputs": [
    {
     "name": "stdout",
     "output_type": "stream",
     "text": [
      "Hydrogen H 1\n"
     ]
    }
   ],
   "source": [
    "hydrogen.__str__()"
   ]
  },
  {
   "cell_type": "markdown",
   "id": "ae02b056",
   "metadata": {},
   "source": [
    "### 8. Modify Element to make the attributes name, symbol, and number private. Define a getter property for each to return its value."
   ]
  },
  {
   "cell_type": "code",
   "execution_count": 52,
   "id": "be7434e7",
   "metadata": {},
   "outputs": [],
   "source": [
    "class Element():\n",
    "    def __init__(self, name, symbol, number):\n",
    "        self.__name = name\n",
    "        self.__symbol = symbol\n",
    "        self.__number = number\n",
    "    \n",
    "    def __str__(self):\n",
    "        print(self.__name, self.__symbol, self.__number)\n",
    "    \n",
    "    @property.__str__\n",
    "    def getter(self):\n",
    "        return self.__name, self.__symbol, self.__number\n",
    "    "
   ]
  },
  {
   "cell_type": "code",
   "execution_count": 53,
   "id": "763b8b66",
   "metadata": {},
   "outputs": [],
   "source": [
    "hydrogen = Element(d.get('name'), d.get('symbol'), d.get('number'))"
   ]
  },
  {
   "cell_type": "code",
   "execution_count": 55,
   "id": "b7895174",
   "metadata": {},
   "outputs": [
    {
     "name": "stdout",
     "output_type": "stream",
     "text": [
      "Hydrogen H 1\n"
     ]
    }
   ],
   "source": [
    "hydrogen.__str__()"
   ]
  },
  {
   "cell_type": "markdown",
   "id": "29cf09fc",
   "metadata": {},
   "source": [
    "### 9. Define three classes: Bear, Rabbit, and Octothorpe. For each, define only one method: eats(). This should return 'berries' (Bear), 'clover' (Rabbit), or 'campers' (Octothorpe). Create one object from each and print what it eats."
   ]
  },
  {
   "cell_type": "code",
   "execution_count": 57,
   "id": "68f678a6",
   "metadata": {},
   "outputs": [],
   "source": [
    "class Bear():\n",
    "    def eats(self):\n",
    "        return 'berries'\n",
    "class Rabbit():\n",
    "    def eats(self):\n",
    "        return 'clover'\n",
    "class Octothorpe():\n",
    "    def eats(self):\n",
    "        return 'campers'"
   ]
  },
  {
   "cell_type": "code",
   "execution_count": 58,
   "id": "061575be",
   "metadata": {},
   "outputs": [],
   "source": [
    "b = Bear()\n",
    "r = Rabbit()\n",
    "o = Octothorpe()"
   ]
  },
  {
   "cell_type": "code",
   "execution_count": 60,
   "id": "e19c3141",
   "metadata": {},
   "outputs": [
    {
     "data": {
      "text/plain": [
       "('berries', 'clover', 'campers')"
      ]
     },
     "execution_count": 60,
     "metadata": {},
     "output_type": "execute_result"
    }
   ],
   "source": [
    "b.eats(), r.eats(), o.eats()"
   ]
  },
  {
   "cell_type": "markdown",
   "id": "5bc35cc6",
   "metadata": {},
   "source": [
    "### 10. Define these classes: Laser, Claw, and SmartPhone. Each has only one method: does(). This returns 'disintegrate' (Laser), 'crush' (Claw), or 'ring' (SmartPhone). Then, define the class Robot that has one instance (object) of each of these. Define a does() method for the Robot that prints what its component objects do."
   ]
  },
  {
   "cell_type": "code",
   "execution_count": 110,
   "id": "abb64ac1",
   "metadata": {},
   "outputs": [],
   "source": [
    "class Laser(Robot):\n",
    "    def does():\n",
    "        return 'disintegrate'\n",
    "class Claw(Robot):\n",
    "    def does():\n",
    "        return 'crush'\n",
    "class SmartPhone(Robot):\n",
    "    def does():\n",
    "        return 'ring'"
   ]
  },
  {
   "cell_type": "code",
   "execution_count": 111,
   "id": "6f5a52c8",
   "metadata": {},
   "outputs": [],
   "source": [
    "class Robot:\n",
    "    \"\"\"\"\"def in_1(object):\n",
    "        l =  Laser().does()\n",
    "    def in_2(object):\n",
    "        c = Claw().does()\n",
    "    def in_3(object):\n",
    "        sp = SmartPhone().does()\n",
    "    \"\"\"\n",
    "    \n",
    "    def does():\n",
    "        print(Laser.does(), Claw.does(), SmartPhone.does())"
   ]
  },
  {
   "cell_type": "code",
   "execution_count": 112,
   "id": "66526214",
   "metadata": {},
   "outputs": [
    {
     "name": "stdout",
     "output_type": "stream",
     "text": [
      "disintegrate crush ring\n"
     ]
    }
   ],
   "source": [
    "Robot.does()"
   ]
  }
 ],
 "metadata": {
  "kernelspec": {
   "display_name": "Python 3 (ipykernel)",
   "language": "python",
   "name": "python3"
  },
  "language_info": {
   "codemirror_mode": {
    "name": "ipython",
    "version": 3
   },
   "file_extension": ".py",
   "mimetype": "text/x-python",
   "name": "python",
   "nbconvert_exporter": "python",
   "pygments_lexer": "ipython3",
   "version": "3.9.7"
  }
 },
 "nbformat": 4,
 "nbformat_minor": 5
}
