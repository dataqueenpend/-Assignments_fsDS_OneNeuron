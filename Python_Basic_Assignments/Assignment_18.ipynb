{
 "cells": [
  {
   "cell_type": "markdown",
   "id": "3d1d6e61",
   "metadata": {},
   "source": [
    "## 1. Create a zoo.py file first. Define the hours() function, which prints the string 'Open 9-5 daily'. Then, use the interactive interpreter to import the zoo module and call its hours() function.\n",
    "\n",
    "* Change the name of py file, because it was returning an error. "
   ]
  },
  {
   "cell_type": "code",
   "execution_count": 10,
   "id": "c4740908",
   "metadata": {},
   "outputs": [],
   "source": [
    "import zooooos"
   ]
  },
  {
   "cell_type": "code",
   "execution_count": 12,
   "id": "4ff1760f",
   "metadata": {},
   "outputs": [
    {
     "name": "stdout",
     "output_type": "stream",
     "text": [
      "Open 9-5 daily\n"
     ]
    }
   ],
   "source": [
    "zooooos.hours()"
   ]
  },
  {
   "cell_type": "markdown",
   "id": "5e280394",
   "metadata": {},
   "source": [
    "## 2. In the interactive interpreter, import the zoo module as menagerie and call its hours() function."
   ]
  },
  {
   "cell_type": "code",
   "execution_count": 14,
   "id": "acb07822",
   "metadata": {},
   "outputs": [],
   "source": [
    "import zooooos as menagerie"
   ]
  },
  {
   "cell_type": "code",
   "execution_count": 15,
   "id": "ded642a6",
   "metadata": {},
   "outputs": [
    {
     "name": "stdout",
     "output_type": "stream",
     "text": [
      "Open 9-5 daily\n"
     ]
    }
   ],
   "source": [
    "meangerie.hours()"
   ]
  },
  {
   "cell_type": "markdown",
   "id": "9c79cad6",
   "metadata": {},
   "source": [
    "## 3. Using the interpreter, explicitly import and call the hours() function from zoo."
   ]
  },
  {
   "cell_type": "code",
   "execution_count": 16,
   "id": "579ccf89",
   "metadata": {},
   "outputs": [],
   "source": [
    "from zooooos import hours"
   ]
  },
  {
   "cell_type": "code",
   "execution_count": 17,
   "id": "239ecf7f",
   "metadata": {},
   "outputs": [
    {
     "name": "stdout",
     "output_type": "stream",
     "text": [
      "Open 9-5 daily\n"
     ]
    }
   ],
   "source": [
    "zooooos.hours()"
   ]
  },
  {
   "cell_type": "markdown",
   "id": "b2ffd327",
   "metadata": {},
   "source": [
    "## 4. Import the hours() function as info and call it."
   ]
  },
  {
   "cell_type": "code",
   "execution_count": 25,
   "id": "5639be53",
   "metadata": {},
   "outputs": [],
   "source": [
    "from zooooos import hours"
   ]
  },
  {
   "cell_type": "code",
   "execution_count": 34,
   "id": "7e3d52f8",
   "metadata": {},
   "outputs": [],
   "source": [
    "def info():\n",
    "    zooooos.hours()"
   ]
  },
  {
   "cell_type": "code",
   "execution_count": 35,
   "id": "15c26bdf",
   "metadata": {},
   "outputs": [
    {
     "name": "stdout",
     "output_type": "stream",
     "text": [
      "Open 9-5 daily\n"
     ]
    }
   ],
   "source": [
    "info()"
   ]
  },
  {
   "cell_type": "markdown",
   "id": "13eab1d2",
   "metadata": {},
   "source": [
    "## 5. Create a plain dictionary with the key-value pairs 'a': 1, 'b': 2, and 'c': 3, and print it out."
   ]
  },
  {
   "cell_type": "code",
   "execution_count": 36,
   "id": "021f225e",
   "metadata": {},
   "outputs": [],
   "source": [
    "plain_dict = { 'a': 1, 'b': 2, 'c': 3}"
   ]
  },
  {
   "cell_type": "code",
   "execution_count": 37,
   "id": "e72bf1ca",
   "metadata": {},
   "outputs": [
    {
     "data": {
      "text/plain": [
       "{'a': 1, 'b': 2, 'c': 3}"
      ]
     },
     "execution_count": 37,
     "metadata": {},
     "output_type": "execute_result"
    }
   ],
   "source": [
    "plain_dict"
   ]
  },
  {
   "cell_type": "markdown",
   "id": "9707ad46",
   "metadata": {},
   "source": [
    "## 6.Make an OrderedDict called fancy from the same pairs listed in 5 and print it. Did it print in the same order as plain?"
   ]
  },
  {
   "cell_type": "code",
   "execution_count": 38,
   "id": "f3b35cfd",
   "metadata": {},
   "outputs": [],
   "source": [
    "from collections import OrderedDict"
   ]
  },
  {
   "cell_type": "code",
   "execution_count": 41,
   "id": "c904cf24",
   "metadata": {},
   "outputs": [
    {
     "data": {
      "text/plain": [
       "OrderedDict([('a', 1), ('b', 2), ('c', 3)])"
      ]
     },
     "execution_count": 41,
     "metadata": {},
     "output_type": "execute_result"
    }
   ],
   "source": [
    "OrderedDict([('a', 1), ('b', 2), ('c',3)])"
   ]
  },
  {
   "cell_type": "markdown",
   "id": "d4e48dcd",
   "metadata": {},
   "source": [
    "Yes. Ir printed the same order. "
   ]
  },
  {
   "cell_type": "markdown",
   "id": "8efd7cbb",
   "metadata": {},
   "source": [
    "## 7. Make a default dictionary called dict_of_lists and pass it the argument list. Make the list dict_of_lists['a'] and append the value 'something for a' to it in one assignment. Print dict_of_lists['a']."
   ]
  },
  {
   "cell_type": "code",
   "execution_count": 42,
   "id": "d7438147",
   "metadata": {},
   "outputs": [],
   "source": [
    "dict_of_lists = {}"
   ]
  },
  {
   "cell_type": "code",
   "execution_count": 43,
   "id": "8386d886",
   "metadata": {},
   "outputs": [],
   "source": [
    "dict_of_lists['a'] = \"something for a\""
   ]
  },
  {
   "cell_type": "code",
   "execution_count": 44,
   "id": "a8eec6db",
   "metadata": {},
   "outputs": [
    {
     "data": {
      "text/plain": [
       "{'a': 'something for a'}"
      ]
     },
     "execution_count": 44,
     "metadata": {},
     "output_type": "execute_result"
    }
   ],
   "source": [
    "dict_of_lists"
   ]
  }
 ],
 "metadata": {
  "kernelspec": {
   "display_name": "Python 3 (ipykernel)",
   "language": "python",
   "name": "python3"
  },
  "language_info": {
   "codemirror_mode": {
    "name": "ipython",
    "version": 3
   },
   "file_extension": ".py",
   "mimetype": "text/x-python",
   "name": "python",
   "nbconvert_exporter": "python",
   "pygments_lexer": "ipython3",
   "version": "3.9.7"
  }
 },
 "nbformat": 4,
 "nbformat_minor": 5
}
