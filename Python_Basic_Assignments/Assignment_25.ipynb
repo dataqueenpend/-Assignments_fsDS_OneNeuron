{
 "cells": [
  {
   "cell_type": "markdown",
   "id": "fa71c64c",
   "metadata": {},
   "source": [
    "### 1)  What is the difference between enclosing a list comprehension in square brackets and parentheses?\n",
    "    * SQUARE BRACKETS - produce a list.\n",
    "    * PARANTHESES - produce a tuple.\n",
    "\n",
    "### 2) What is the relationship between generators and iterators?\n",
    "    > Generator is a function that stores infromation about sequence of values for iteration. It is not calculating them all in the same time. Instead of the return or print statement, it has a yield. Iterator is an object which allows to iterate over the sequence - like generator. \n",
    "\n",
    "### 3) What are the signs that a function is a generator function?\n",
    "    > yield keyword\n",
    "\n",
    "### 4) What is the purpose of a yield statement?\n",
    "    > To suspend function execution. \n",
    "\n",
    "### 5) What is the relationship between map calls and list comprehensions? Make a comparison and contrast between the two.\n",
    "    * List comprehensions are a substitue to map, filter and reduce calls.\n",
    "    * Lists in comparison to map are easier to read, allow filtering. \n",
    "    * Lists comprehension are used when there is a need for a list resulted, and map while there is a need of map object.\n",
    "    * Lists are faster to use when we need to define some expression. Maps are faster when we want to call already defined function.  "
   ]
  }
 ],
 "metadata": {
  "kernelspec": {
   "display_name": "Python 3 (ipykernel)",
   "language": "python",
   "name": "python3"
  },
  "language_info": {
   "codemirror_mode": {
    "name": "ipython",
    "version": 3
   },
   "file_extension": ".py",
   "mimetype": "text/x-python",
   "name": "python",
   "nbconvert_exporter": "python",
   "pygments_lexer": "ipython3",
   "version": "3.9.7"
  }
 },
 "nbformat": 4,
 "nbformat_minor": 5
}
