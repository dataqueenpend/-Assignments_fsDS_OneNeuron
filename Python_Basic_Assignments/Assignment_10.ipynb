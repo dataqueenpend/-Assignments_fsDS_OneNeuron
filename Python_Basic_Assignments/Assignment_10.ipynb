{
 "cells": [
  {
   "cell_type": "markdown",
   "id": "d9e9a5e7",
   "metadata": {},
   "source": [
    "## 1. How do you distinguish between shutil.copy() and shutil.copytree()?\n",
    "    * shutil.copy() copy a single file\n",
    "    * shutil.copytree() - copy an entire folder and every folder and filed contained in it\n",
    "\n",
    "## 2. What function is used to rename files??\n",
    "    > os.rename()\n",
    "\n",
    "\n",
    "## 3. What is the difference between the delete functions in the send2trash and shutil modules?\n",
    "    * send2trash - move file or folder to the recycle bin\n",
    "    * shutil modules - permamently delete files and folders\n",
    "\n",
    "## 4. ZipFile objects have a close() method just like File objects’ close() method. What ZipFile method is equivalent to File objects’ open() method?\n",
    "    > extractall()\n",
    "\n",
    "## 5. Create a programme that searches a folder tree for files with a certain file extension (such as .pdf or .jpg). Copy these files from whatever location they are in to a new folder."
   ]
  },
  {
   "cell_type": "code",
   "execution_count": 3,
   "id": "93018c24",
   "metadata": {},
   "outputs": [],
   "source": [
    "import os, shutil\n",
    "\n",
    "def selective_copy(folder, extensions, destination_folder):\n",
    "    folder = os.path.abspath(folder)\n",
    "    destination_folder = os.path.abspath(destination_folder)\n",
    "    \n",
    "    for foldername, subfolders, filenames in os.walk(folder):\n",
    "        for filename in filenames:\n",
    "            name, extension = os.path.splitext(filename) #Splits extension from a filename\n",
    "            if extension in extensions:\n",
    "                file_absolute_path = foldername + os.path.sep + filename\n",
    "                shutil.copy(file_absolute_path, destination_folder)"
   ]
  }
 ],
 "metadata": {
  "kernelspec": {
   "display_name": "Python 3 (ipykernel)",
   "language": "python",
   "name": "python3"
  },
  "language_info": {
   "codemirror_mode": {
    "name": "ipython",
    "version": 3
   },
   "file_extension": ".py",
   "mimetype": "text/x-python",
   "name": "python",
   "nbconvert_exporter": "python",
   "pygments_lexer": "ipython3",
   "version": "3.9.7"
  }
 },
 "nbformat": 4,
 "nbformat_minor": 5
}
