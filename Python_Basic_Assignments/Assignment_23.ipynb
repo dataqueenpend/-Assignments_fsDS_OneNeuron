{
 "cells": [
  {
   "cell_type": "markdown",
   "id": "85957fe4",
   "metadata": {},
   "source": [
    "### 1. What is the result of the code, and why?\n",
    "\n",
    "def func(a, b=6, c=8):\n",
    "    print(a, b, c)\n",
    "func(1, 2)\n",
    "\n",
    "> Function will return 3 values: 1,2 and 8. Variables a and b were overwritten inside the function. Variable c was not inputed into the function call, so the function will return its default value. Meaning: 8. "
   ]
  },
  {
   "cell_type": "markdown",
   "id": "c070dddd",
   "metadata": {},
   "source": [
    "### 2. What is the result of this code, and why?\n",
    "\n",
    "def func(a, b, c=5):\n",
    "    print(a, b, c)\n",
    "func(1, c=3, b=2)\n",
    "\n",
    "> The code will return 3 values: 1, 2, 3. The values were overwritten in the function call. The order of the atributes not matter when the appropriate attribute name is used. We have c variable as a second argument, and the b value as the third argument. "
   ]
  },
  {
   "cell_type": "markdown",
   "id": "b80f1513",
   "metadata": {},
   "source": [
    "### 3. How about this code: what is its result, and why?\n",
    "\n",
    "def func(a, *pargs):\n",
    "    print(a, pargs)\n",
    "func(1, 2, 3)\n",
    "\n",
    "> The code will return the value 1 and a tuple of 2,3. *pargs is returning parsed args. "
   ]
  },
  {
   "cell_type": "markdown",
   "id": "80a40e3a",
   "metadata": {},
   "source": [
    "### 4. What does this code print, and why?\n",
    "\n",
    "def func(a, **kargs):\n",
    "    print(a, kargs)\n",
    "func(a=1, c=3, b=2)\n",
    "\n",
    "> The code will return value of a (1), and then dictionary with key and value pairs of b, c (2,3). Returning of the dictionary is possible because of the **kargs - which allows to input any number of values, as long as we input in the function call also the positional argument (key)). "
   ]
  },
  {
   "cell_type": "markdown",
   "id": "19a3575e",
   "metadata": {},
   "source": [
    "### 5. What gets printed by this, and explain?\n",
    "\n",
    "def func(a, b, c=8, d=5): \n",
    "    print(a, b, c, d)\n",
    "func(1, *(5, 6))\n",
    "\n",
    "> The code will return values 1,5,6,5. Syntax of *(5,6) is to unpack the middle values of bc - 5,6. The code outputs 4 values, even when only 3 were input in the function calll, because d has a default value in the code of the function itself."
   ]
  },
  {
   "cell_type": "markdown",
   "id": "94e38ac3",
   "metadata": {},
   "source": [
    "### 6. what is the result of this, and explain?\n",
    "\n",
    "def func(a, b, c): \n",
    "    a = 2; b[0] = 'x'; c['a'] = 'y'\n",
    "l=1; m=[1]; n={'a':0}\n",
    "func(l, m, n)\n",
    "l, m, n\n",
    "\n",
    "> The function doesn't return anything. The output of this code is coming from the values l, m, n. And it outputs 1 (l), ['x'] (m) - which is a list with one value, and dictionary {'a':'y'}. The values inside the function were not overwrited.  "
   ]
  }
 ],
 "metadata": {
  "kernelspec": {
   "display_name": "Python 3 (ipykernel)",
   "language": "python",
   "name": "python3"
  },
  "language_info": {
   "codemirror_mode": {
    "name": "ipython",
    "version": 3
   },
   "file_extension": ".py",
   "mimetype": "text/x-python",
   "name": "python",
   "nbconvert_exporter": "python",
   "pygments_lexer": "ipython3",
   "version": "3.9.7"
  }
 },
 "nbformat": 4,
 "nbformat_minor": 5
}
