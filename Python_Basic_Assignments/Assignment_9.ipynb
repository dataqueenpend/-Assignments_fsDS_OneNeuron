{
 "cells": [
  {
   "cell_type": "markdown",
   "id": "76ce6d14",
   "metadata": {},
   "source": [
    "## 1. To what does a relative path refer?\n",
    "    > The relative path refers is the path that locates a file or a folder on a file system, starting from current directory.\n",
    "\n",
    "## 2. What does an absolute path start with your operating system?\n",
    "    > C:\\\\Users....\n",
    "\n",
    "## 3. What do the functions os.getcwd() and os.chdir() do?\n",
    "    * os.getcwd() - informs of the current working dir\n",
    "    * os.chdir() - changes current working directory\n",
    "\n",
    "## 4. What are the . and .. folders?\n",
    "    * . - current directory\n",
    "    * >> - signifies the parent directory\n",
    "\n",
    "## 5. In C:\\bacon\\eggs\\spam.txt, which part is the dir name, and which part is the base name?\n",
    "    * base name - spam.txt\n",
    "    * dir name - C:\\bacon\\eggs\\\n",
    "\n",
    "## 6. What are the three “mode” arguments that can be passed to the open() function?\n",
    "    * r - read\n",
    "    * w - write\n",
    "    * a - append\n",
    "\n",
    "## 7. What happens if an existing file is opened in write mode?\n",
    "    > Contents of the existing file is discarded and the file is treated as a new empty file to write in.\n",
    "\n",
    "## 8. How do you tell the difference between read() and readlines()?\n",
    "    > read() reads whole file at once and then prints out the first characters that takes as many bytes as we specify in the paranthesis. readlines() reads and prints out only the first characters that take up as many bytes as we specify in the parenthesis.\n",
    "\n",
    "## 9. What data structure does a shelf value resemble?\n",
    "    > A dictionary. "
   ]
  }
 ],
 "metadata": {
  "kernelspec": {
   "display_name": "Python 3 (ipykernel)",
   "language": "python",
   "name": "python3"
  },
  "language_info": {
   "codemirror_mode": {
    "name": "ipython",
    "version": 3
   },
   "file_extension": ".py",
   "mimetype": "text/x-python",
   "name": "python",
   "nbconvert_exporter": "python",
   "pygments_lexer": "ipython3",
   "version": "3.9.7"
  }
 },
 "nbformat": 4,
 "nbformat_minor": 5
}
