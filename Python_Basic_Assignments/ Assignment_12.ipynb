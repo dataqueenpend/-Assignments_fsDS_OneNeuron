{
 "cells": [
  {
   "cell_type": "markdown",
   "id": "18108870",
   "metadata": {},
   "source": [
    "## 1. In what modes should the PdfFileReader() and PdfFileWriter() File objects will be opened?\n",
    "    > 'rb', 'wb' - meaning read/write binary (pdfs are binary files)\n",
    "\n",
    "## 2. From a PdfFileReader object, how do you get a Page object for page 5?\n",
    "    > pageObj = pdfReader.getPage(5)\n",
    "    \n",
    "## 3. What PdfFileReader variable stores the number of pages in the PDF document?\n",
    "    > pdfReader.numPages\n",
    "\n",
    "## 4. If a PdfFileReader object’s PDF is encrypted with the password swordfish, what must you do before you can obtain Page objects from it?\n",
    "    > pdfReader.decrypt('swordfish')\n",
    "\n",
    "## 5. What methods do you use to rotate a page?\n",
    "    > page.rotateClockwise(90), page.rotateCCounterlockwise(90)\n",
    "\n",
    "## 6. What is the difference between a Run object and a Paragraph object?\n",
    "    > Paragraph object are list in Document object. New paragraph object begins with each enter typed by the user. Each paragraph contains Run objects (list of one or more).\n",
    "\n",
    "## 7. How do you obtain a list of Paragraph objects for a Document object that’s stored in a variable named doc?\n",
    "    > docx.Document(doc)\n",
    "\n",
    "## 8. What type of object has bold, underline, italic, strike, and outline variables?\n",
    "    > Run Object.\n",
    "\n",
    "## 9. What is the difference between False, True, and None for the bold variable?\n",
    "    * True - always enabled, no matter other styles applied to the run.\n",
    "    * False - always disabled.\n",
    "    * None - defaults (whatever the run is set to). \n",
    "\n",
    "## 10. How do you create a Document object for a new Word document?\n",
    "    > import docx\n",
    "    > new_word_doc = docx.Document()\n",
    "\n",
    "## 11. How do you add a paragraph with the text &#39;Hello, there!&#39; to a Document object stored in a variable named doc?\n",
    "    > doc = doc.add_paragraph('Hello there!')\n",
    "\n",
    "\n",
    "## 12. What integers represent the levels of headings available in Word documents?\n",
    "    > Integers from 1 to 9. \n",
    "    "
   ]
  }
 ],
 "metadata": {
  "kernelspec": {
   "display_name": "Python 3 (ipykernel)",
   "language": "python",
   "name": "python3"
  },
  "language_info": {
   "codemirror_mode": {
    "name": "ipython",
    "version": 3
   },
   "file_extension": ".py",
   "mimetype": "text/x-python",
   "name": "python",
   "nbconvert_exporter": "python",
   "pygments_lexer": "ipython3",
   "version": "3.9.7"
  }
 },
 "nbformat": 4,
 "nbformat_minor": 5
}
