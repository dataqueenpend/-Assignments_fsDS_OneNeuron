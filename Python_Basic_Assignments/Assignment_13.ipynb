{
 "cells": [
  {
   "cell_type": "markdown",
   "id": "059158e0",
   "metadata": {},
   "source": [
    "## 1. What advantages do Excel spreadsheets have over CSV spreadsheets?\n",
    "    > Xls spreadsheets are binary files. Above the text data (csv), they allow to use different kind of user formatting.\n",
    "\n",
    "## 2. What do you pass to csv.reader() and csv.writer() to create reader and writer objects?\n",
    "    > Name of the csv/writer file and the dialect of the file (f.e. 'excel').\n",
    "\n",
    "## 3. What modes do File objects for reader and writer objects need to be opened in?\n",
    "    * 'r' - open for reading\n",
    "    * 'r+' - for reading and writing\n",
    "    * 'w' - open for writing\n",
    "    * 'w+' - for wrtiging and reading\n",
    "    * 'a' - open for appending\n",
    "    * 'a' - open for appending and reading\n",
    "\n",
    "## 4. What method takes a list argument and writes it to a CSV file?\n",
    "    > write.writerows() takes an iterable. It is a method from csv library. \n",
    "\n",
    "## 5. What do the keyword arguments delimiter and line terminator do?\n",
    "    * delimiter - is a character that divide cells and rows, default is comma, with this arguments we can change the default one, to any other.\n",
    "    * linterminator - is an argument which allow us to overwrite deafult newline. For example, if we want to have more space between rows, we can use '\\n\\n' (double the size of default newline).\n",
    "\n",
    "## 6. What function takes a string of JSON data and returns a Python data structure?\n",
    "    > json.loads()\n",
    "\n",
    "## 7. What function takes a Python data structure and returns a string of JSON data?\n",
    "    > json.dump()"
   ]
  }
 ],
 "metadata": {
  "kernelspec": {
   "display_name": "Python 3 (ipykernel)",
   "language": "python",
   "name": "python3"
  },
  "language_info": {
   "codemirror_mode": {
    "name": "ipython",
    "version": 3
   },
   "file_extension": ".py",
   "mimetype": "text/x-python",
   "name": "python",
   "nbconvert_exporter": "python",
   "pygments_lexer": "ipython3",
   "version": "3.9.7"
  }
 },
 "nbformat": 4,
 "nbformat_minor": 5
}
