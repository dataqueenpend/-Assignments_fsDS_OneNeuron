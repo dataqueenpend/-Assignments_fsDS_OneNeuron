{
 "cells": [
  {
   "cell_type": "markdown",
   "id": "5a49a1a3",
   "metadata": {},
   "source": [
    "### 1. Is the Python Standard Library included with PyInputPlus?\n",
    "    > PyInputPlus is not a Python Standard Library. If we want to use it we need to install it.\n",
    "    \n",
    "### 2. Why is PyInputPlus commonly imported with import pyinputplus as pypi?\n",
    "    > It commonly imported as pypi to shorten the long name of the library and make it easier to use (like in other python libraries).\n",
    "\n",
    "### 3. How do you distinguish between inputInt() and inputFloat()?\n",
    "    > First expects integer values as an imput, second one expects float value as an imput.\n",
    "\n",
    "### 4. Using PyInputPlus, how do you ensure that the user enters a whole number between 0 and 99?\n",
    "    > We can do it by using pypi.inputInt(prompt='Enter an integer value between 0 and 99', min=0, max=99)\n",
    "\n",
    "### 5. What is transferred to the keyword arguments allowRegexes and blockRegexes?\n",
    "    > With the help of allowRegexes and blockRegexes we can give a list of regular expressions strings, to accept or reject as valid input.\n",
    "\n",
    "### 6. If a blank input is entered three times, what does inputStr(limit=3) do?\n",
    "    > It raises RetryLimitException excpetion.\n",
    "\n",
    "### 7. If blank input is entered three times, what does inputStr(limit=3, default=&#39;hello&#39;) do?\n",
    "    > The function will return default value instead of raising an Exception."
   ]
  }
 ],
 "metadata": {
  "kernelspec": {
   "display_name": "Python 3 (ipykernel)",
   "language": "python",
   "name": "python3"
  },
  "language_info": {
   "codemirror_mode": {
    "name": "ipython",
    "version": 3
   },
   "file_extension": ".py",
   "mimetype": "text/x-python",
   "name": "python",
   "nbconvert_exporter": "python",
   "pygments_lexer": "ipython3",
   "version": "3.9.7"
  }
 },
 "nbformat": 4,
 "nbformat_minor": 5
}
