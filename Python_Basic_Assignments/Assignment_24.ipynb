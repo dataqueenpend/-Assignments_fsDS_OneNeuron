{
 "cells": [
  {
   "cell_type": "markdown",
   "id": "3b59a8c4",
   "metadata": {},
   "source": [
    "### 1. What is the relationship between def statements and lambda expressions ?\n",
    "    > Both are used to create the functions in python. The difference between them is that functions created with the help of lambda are 'anonymous' function. \n",
    "\n",
    "### 2. What is the benefit of lambda?\n",
    "    > Can be used inside other expressions without writing outside function (with def statement). \n",
    "    \n",
    "### 3. Compare and contrast map, filter, and reduce.\n",
    "    * map - allows to create inline function (with single expression) in the provided as the second argument iterable. \n",
    "    * filter - expects boolean expressions - which allow the filtering procees proceed in the provided iterable.\n",
    "    * reduce - performs the operation in the lambda expression and stores the single value of the expression, it performs the operation in the iterable range.\n",
    "    \n",
    "### 4. What are function annotations, and how are they used?\n",
    "    > These are optional chunks of code, which we can to the code, to annonate in which type of the data we want to use in the specific part of code (or what datatype we want to output. \n",
    "    * we can use it upon variable creation:\n",
    "        > some_string :str = 'text od the string'\n",
    "    * or in the function:\n",
    "        > def some_function(x:int, y:int) -> int:\n",
    "            return x-y\n",
    "         \n",
    "\n",
    "### 5. What are recursive functions, and how are they used?\n",
    "    > Meaning that the function the cal itself inside it's function.\n",
    "\n",
    "### 6. What are some general design guidelines for coding functions?\n",
    "    * proper indentation (4 spaces) per level,\n",
    "    * 79 characters maximum in one line,\n",
    "    * operator after the line break,\n",
    "    * whole topic on the number of blank lines depending on the type of the code (top-level classes, methods, related functionts etc)\n",
    "    * and a lot of recomendations in the subject of whitespaces.\n",
    "\n",
    "### 7. Name three or more ways that functions can communicate results to a caller.\n",
    "    > By print, by return, by storing the results in some variable (which can be called later). "
   ]
  }
 ],
 "metadata": {
  "kernelspec": {
   "display_name": "Python 3 (ipykernel)",
   "language": "python",
   "name": "python3"
  },
  "language_info": {
   "codemirror_mode": {
    "name": "ipython",
    "version": 3
   },
   "file_extension": ".py",
   "mimetype": "text/x-python",
   "name": "python",
   "nbconvert_exporter": "python",
   "pygments_lexer": "ipython3",
   "version": "3.9.7"
  }
 },
 "nbformat": 4,
 "nbformat_minor": 5
}
