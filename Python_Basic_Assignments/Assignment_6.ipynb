{
  "nbformat": 4,
  "nbformat_minor": 0,
  "metadata": {
    "colab": {
      "name": " Assignment_6.ipynb",
      "provenance": []
    },
    "kernelspec": {
      "name": "python3",
      "display_name": "Python 3"
    },
    "language_info": {
      "name": "python"
    }
  },
  "cells": [
    {
      "cell_type": "markdown",
      "source": [
        "1. What are escape characters, and how do you use them?\n",
        "  > Escape characters is \\. And they are various ways to use it. First of all it is used to manipulate a string in such a way that allow to use forbidden characters like single quote: '. \n",
        "    \n",
        "    * string = 'Some text of the name \\'text'\\ is used as an example'\n",
        "\n",
        "  > Other popular escape characters are: \n",
        "    * \\n - newline\n",
        "    * \\t - tab\n",
        "\n",
        "2. What do the escape characters n and t stand for?\n",
        "  > As above. N is newline. T is tab. \n",
        "\n",
        "3. What is the way to include backslash characters in a string?\n",
        "  > string = 'Some text for \\n exercise 3'\n",
        "\n",
        "4. The string \"Howl's Moving Castle\" is a correct value. Why isn't the single quote character in the word Howl's not escaped a problem?\n",
        "  > Because the outer quotes of this string are the double quotes. \n",
        "\n",
        "5. How do you write a string of newlines if you don't want to use the n character?\n",
        "  > string = \"\"\"This is an example\n",
        "\n",
        "  > for exercise 5\"\"\"\n",
        "\n",
        "6. What are the values of the given expressions?\n",
        "  * 'Hello, world!'[1] -> e\n",
        "\n",
        "  * 'Hello, world!'[0:5] -> Hello\n",
        "\n",
        "  * 'Hello, world!'[:5] -> Hello\n",
        "\n",
        "  * 'Hello, world!'[3:] -> lo, world!\n",
        "\n",
        "7. What are the values of the following expressions?\n",
        "  * 'Hello'.upper() -> HELLO\n",
        "  * 'Hello'.upper().isupper() -> True\n",
        "  * 'Hello'.upper().lower() -> hello\n",
        "\n",
        "8. What are the values of the following expressions?\n",
        "\n",
        "  * 'Remember, remember, the fifth of July.'.split() - `['Remember,', 'remember,', 'the', 'fifth', 'of', 'July.']`\n",
        "  * '-'.join('There can only one.'.split()) - `There-can-only-one.`\n",
        "\n",
        "9. What are the methods for right-justifying, left-justifying, and centering a string?\n",
        "  > .rjust(), .ljust(), .center()\n",
        "\n",
        "10. What is the best way to remove whitespace characters from the start or end?\n",
        "  > .strip()\n"
      ],
      "metadata": {
        "id": "PhcH4d5-yTgF"
      }
    }
  ]
}