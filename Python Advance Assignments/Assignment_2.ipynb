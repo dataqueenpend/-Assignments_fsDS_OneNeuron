{
 "cells": [
  {
   "cell_type": "markdown",
   "id": "034f02eb",
   "metadata": {},
   "source": [
    "### Q1. What is the relationship between classes and modules?\n",
    "    > Module is a collection of functions, classes, vairbles, runable part of codes. Class can also be included in a Python module.\n",
    "\n",
    "\n",
    "### Q2. How do you make instances and classes?\n",
    "    > class Dog:\n",
    "        pass\n",
    "     \n",
    "     instance_0f_class = Dog()\n",
    "\n",
    "\n",
    "### Q3. Where and how should be class attributes created?\n",
    "    > Atributes of the class are defined inside a class. Methods of the class are also atttributes. \n",
    "        > class Example:\n",
    "            x = 1\n",
    "            b = 3\n",
    "\n",
    "### Q4. Where and how are instance attributes created?\n",
    "    > Instances attributes are defined in a constructor by using the self parameter. The are specific to an object and can accessed by object.instance_attribute. Changing the intance attribute do not reflects to other objects. \n",
    "\n",
    "\n",
    "### Q5. What does the term \"self\" in a Python class mean?\n",
    "    > self means that the object is passing itself as a first argument of the method.  \n",
    "\n",
    "\n",
    "### Q6. How does a Python class handle operator overloading?\n",
    "    > To overload an operator in Python we use dedicated method, such as __add__, __sub__, __mul__, __eq__, and more. By defining them in a method, we can change the default behavior of the operator.\n",
    "\n",
    "\n",
    "### Q7. When do you consider allowing operator overloading of your classes?\n",
    "        > When I want to (f.e.) add two object to itself without using the specific attribute of the class (f.e. Adam.age + Eve.age => Adam + Eve).\n",
    "\n",
    "\n",
    "### Q8. What is the most popular form of operator overloading?\n",
    "    > The most popular operators are basic artighmetic operators and comparison operators. And they are all in the method form: __xyz__() \n",
    "\n",
    "\n",
    "### Q9. What are the two most important concepts to grasp in order to comprehend Python OOP code?\n",
    "    > Inheritance, Encapsulation, Polymorphism, Data Abstraction. \n"
   ]
  },
  {
   "cell_type": "code",
   "execution_count": null,
   "id": "7df23829",
   "metadata": {},
   "outputs": [],
   "source": []
  }
 ],
 "metadata": {
  "kernelspec": {
   "display_name": "Python 3 (ipykernel)",
   "language": "python",
   "name": "python3"
  },
  "language_info": {
   "codemirror_mode": {
    "name": "ipython",
    "version": 3
   },
   "file_extension": ".py",
   "mimetype": "text/x-python",
   "name": "python",
   "nbconvert_exporter": "python",
   "pygments_lexer": "ipython3",
   "version": "3.9.7"
  }
 },
 "nbformat": 4,
 "nbformat_minor": 5
}
