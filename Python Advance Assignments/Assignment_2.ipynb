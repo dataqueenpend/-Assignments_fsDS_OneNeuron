{
 "cells": [
  {
   "cell_type": "markdown",
   "id": "521f5ba8",
   "metadata": {},
   "source": [
    "### Q1. What is the relationship between classes and modules?\n",
    "    > Module is a collection of functions, classes, vairbles, runable part of codes. Class can also be included in a Python module.\n",
    "\n",
    "\n",
    "### Q2. How do you make instances and classes?\n",
    "    > class Dog:\n",
    "        pass\n",
    "     \n",
    "     instance_0f_class = Dog()\n",
    "\n",
    "\n",
    "### Q3. Where and how should be class attributes created?\n",
    "    > Atributes of the class are defined inside a class. Methods of the class are also atttributes. \n",
    "        > class Example:\n",
    "            x = 1\n",
    "            b = 3\n",
    "\n",
    "### Q4. Where and how are instance attributes created?\n",
    "    > Instances attributes are defined in a constructor by using the self parameter. The are specific to an object and can accessed by object.instance_attribute. Changing the intance attribute do not reflects to other objects. \n",
    "\n",
    "\n",
    "### Q5. What does the term \"self\" in a Python class mean?\n",
    "    > self means that the object is passing itself as a first argument of the method.  \n",
    "\n",
    "\n",
    "### Q6. How does a Python class handle operator overloading?\n",
    "    > \n",
    "\n",
    "\n",
    "### Q7. When do you consider allowing operator overloading of your classes?\n",
    "\n",
    "\n",
    "\n",
    "### Q8. What is the most popular form of operator overloading?\n",
    "\n",
    "\n",
    "\n",
    "### Q9. What are the two most important concepts to grasp in order to comprehend Python OOP code?\n"
   ]
  },
  {
   "cell_type": "code",
   "execution_count": 1,
   "id": "e3184c82",
   "metadata": {},
   "outputs": [],
   "source": [
    "class E:\n",
    "    x = 1\n",
    "    b=3"
   ]
  },
  {
   "cell_type": "code",
   "execution_count": 9,
   "id": "49115cbd",
   "metadata": {},
   "outputs": [
    {
     "ename": "TypeError",
     "evalue": "E() takes no arguments",
     "output_type": "error",
     "traceback": [
      "\u001b[1;31m---------------------------------------------------------------------------\u001b[0m",
      "\u001b[1;31mTypeError\u001b[0m                                 Traceback (most recent call last)",
      "\u001b[1;32m~\\AppData\\Local\\Temp/ipykernel_9408/3968128106.py\u001b[0m in \u001b[0;36m<module>\u001b[1;34m\u001b[0m\n\u001b[1;32m----> 1\u001b[1;33m \u001b[0mo\u001b[0m \u001b[1;33m=\u001b[0m \u001b[0mE\u001b[0m\u001b[1;33m(\u001b[0m\u001b[0mx\u001b[0m\u001b[1;33m=\u001b[0m\u001b[1;36m2\u001b[0m\u001b[1;33m)\u001b[0m\u001b[1;33m\u001b[0m\u001b[1;33m\u001b[0m\u001b[0m\n\u001b[0m\u001b[0;32m      2\u001b[0m \u001b[0mo\u001b[0m\u001b[1;33m.\u001b[0m\u001b[0mx\u001b[0m\u001b[1;33m\u001b[0m\u001b[1;33m\u001b[0m\u001b[0m\n",
      "\u001b[1;31mTypeError\u001b[0m: E() takes no arguments"
     ]
    }
   ],
   "source": [
    "o = E()\n",
    "o.x"
   ]
  },
  {
   "cell_type": "code",
   "execution_count": null,
   "id": "be820216",
   "metadata": {},
   "outputs": [],
   "source": []
  }
 ],
 "metadata": {
  "kernelspec": {
   "display_name": "Python 3 (ipykernel)",
   "language": "python",
   "name": "python3"
  },
  "language_info": {
   "codemirror_mode": {
    "name": "ipython",
    "version": 3
   },
   "file_extension": ".py",
   "mimetype": "text/x-python",
   "name": "python",
   "nbconvert_exporter": "python",
   "pygments_lexer": "ipython3",
   "version": "3.9.7"
  }
 },
 "nbformat": 4,
 "nbformat_minor": 5
}
