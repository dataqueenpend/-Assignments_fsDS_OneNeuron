{
 "cells": [
  {
   "cell_type": "markdown",
   "id": "bec13fce",
   "metadata": {},
   "source": [
    "### 1. What is the concept of an abstract superclass?\n",
    "    > Abstract superclass is a class in which we define methods and properties of other classes. But we do not create objects from this class directly. In order to create abstract superclass in python we need to import abc module and let it be inherited by our superclass. Also upon defining methods in our superclass we need to decorate them with @abstractmethod decorator.\n",
    "\n",
    "\n",
    "### 2. What happens when a class statement's top level contains a basic assignment statement?\n",
    "    > Defining basic assignment statements in a top level class (meaning Parent class, I believe?) will allow to inherit this statements in a form of attributes by the subclasses. \n",
    "\n",
    "\n",
    "### 3. Why does a class need to manually call a superclass's __init__ method?\n",
    "    > Because it can in this way connect to the parent's class variables and parameters (inherit them) and override some variables if needed.  \n",
    "\n",
    "\n",
    "### 4. How can you augment, instead of completely replacing, an inherited method?\n",
    "    > Just by creating the method by the same name inside the child class and modifying it accordingly to our needs. \n",
    "\n",
    "\n",
    "### 5. How is the local scope of a class different from that of a function?\n",
    "    > Defining the variable inside the class makes it accesible for all the functions(methods) in the class, as well as subclasses (if the class is a parent). Defining variable in a function (script language) makes it accessible only inside the function."
   ]
  }
 ],
 "metadata": {
  "kernelspec": {
   "display_name": "Python 3 (ipykernel)",
   "language": "python",
   "name": "python3"
  },
  "language_info": {
   "codemirror_mode": {
    "name": "ipython",
    "version": 3
   },
   "file_extension": ".py",
   "mimetype": "text/x-python",
   "name": "python",
   "nbconvert_exporter": "python",
   "pygments_lexer": "ipython3",
   "version": "3.9.7"
  }
 },
 "nbformat": 4,
 "nbformat_minor": 5
}
