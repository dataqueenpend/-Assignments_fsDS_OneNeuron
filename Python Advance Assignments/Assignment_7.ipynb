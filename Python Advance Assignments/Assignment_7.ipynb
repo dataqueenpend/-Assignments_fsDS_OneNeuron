{
 "cells": [
  {
   "cell_type": "markdown",
   "id": "055e7f41",
   "metadata": {},
   "source": [
    "### Q1. What is the purpose of the try statement?\n",
    "    > To catch a code that could raise an error which would cause the program to break. \n",
    "\n",
    "\n",
    "### Q2. What are the two most popular try statement variations?\n",
    "    * Try/Except/Else\n",
    "    * Try/Except/Finally\n",
    "\n",
    "\n",
    "### Q3. What is the purpose of the raise statement?\n",
    "    > Raise statement allows to raise errors (can be also with specific messages and specific types of errors) and stops the control flow of the program.\n",
    "\n",
    "\n",
    "### Q4. What does the assert statement do, and what other statement is it like?\n",
    "    > Assert statement are statements to use for checking the code in the development process. Second part of the assert statement is an expression, and optional message printed when the expression is not true. \n",
    "\n",
    "\n",
    "### Q5. What is the purpose of the with/as argument, and what other statement is it like?\n",
    "    > Opening a file under a specific name. \n",
    "        with open(filename, 'mode') as filename_alias:\n",
    "            for loop...."
   ]
  }
 ],
 "metadata": {
  "kernelspec": {
   "display_name": "Python 3 (ipykernel)",
   "language": "python",
   "name": "python3"
  },
  "language_info": {
   "codemirror_mode": {
    "name": "ipython",
    "version": 3
   },
   "file_extension": ".py",
   "mimetype": "text/x-python",
   "name": "python",
   "nbconvert_exporter": "python",
   "pygments_lexer": "ipython3",
   "version": "3.9.7"
  }
 },
 "nbformat": 4,
 "nbformat_minor": 5
}
