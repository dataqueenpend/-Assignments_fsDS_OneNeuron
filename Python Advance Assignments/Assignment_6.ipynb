{
 "cells": [
  {
   "cell_type": "markdown",
   "id": "d21de9ad",
   "metadata": {},
   "source": [
    "### Q1. Describe three applications for exception processing.\n",
    "    > It is always a good practice to place the code inside the exception blocks to avoid breaking up whole program and easily catch error causes (when we implement a log). But narrowing to base 3 applications for exceptions processing:\n",
    "    * We can use when we want to run some suspicious code, which can cause a specific error.\n",
    "      try:\n",
    "        code here\n",
    "      except ExceptionName:\n",
    "          execute this when ExceptionName error will occur\n",
    "    * We can also use generic except, to catch any error when occurred.\n",
    "        try:\n",
    "            code here\n",
    "        except:\n",
    "            execute this when error will occur\n",
    "    * Also we have try-finally clause, that will result in execution the finally block wheather or not the error will occur in the code part.\n",
    "        try:\n",
    "            code here\n",
    "        finally:\n",
    "            it will always be executed\n",
    "            \n",
    "### Q2. What happens if you don't do something extra to treat an exception?\n",
    "    > Upon not treating the exeption we risk that the program will fail to run, when some error will occur.\n",
    "\n",
    "### Q3. What are your options for recovering from an exception in your script?\n",
    "    > We can use (after try clause) __context__ attribute:\n",
    "        except Exception as e:\n",
    "            print(repr(e.__context__))\n",
    "\n",
    "### Q4. Describe two methods for triggering exceptions in your script.\n",
    "    * raise Exception(\"Exception message\")\n",
    "    * except ValueError: # example of except, there can be any other error type here\n",
    "        print(\"Some error message\")\n",
    "\n",
    "### Q5. Identify two methods for specifying actions to be executed at termination time, regardless of whether or not an exception exists.\n",
    "    * atexit.register(function name) #from atexit module, in any part of the code\n",
    "    * @atexit.register # can also be used as a decorator\n",
    "      def func_name():\n",
    "          print(\"I'm the function\")"
   ]
  }
 ],
 "metadata": {
  "kernelspec": {
   "display_name": "Python 3 (ipykernel)",
   "language": "python",
   "name": "python3"
  },
  "language_info": {
   "codemirror_mode": {
    "name": "ipython",
    "version": 3
   },
   "file_extension": ".py",
   "mimetype": "text/x-python",
   "name": "python",
   "nbconvert_exporter": "python",
   "pygments_lexer": "ipython3",
   "version": "3.9.7"
  }
 },
 "nbformat": 4,
 "nbformat_minor": 5
}
