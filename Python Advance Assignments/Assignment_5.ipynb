{
 "cells": [
  {
   "cell_type": "markdown",
   "id": "f0d9fdba",
   "metadata": {},
   "source": [
    "### Q1. What is the meaning of multiple inheritance?\n",
    "    > A child class inherits from more than one base class. \n",
    "\n",
    "\n",
    "### Q2. What is the concept of delegation?\n",
    "    > Concept of delegation is used to reuse the code (like in inheritance) but without using the concept of inheritance. With a delegation we can use f.e. atributes of another class, by overriding the __getattr__ method of our class. \n",
    "\n",
    "\n",
    "### Q3. What is the concept of composition?\n",
    "    > Composition allows to define a relationship between a class and object. Like we have a class Tree which has a relationship with an object of a type leaf. The concept of composition is more clear, when we understand that the same object of type leaf we can add not only to class Tree but also a class Flower. \n",
    "\n",
    "\n",
    "### Q4. What are bound methods and how do we use them?\n",
    "    > A bound method is a method which is dependent on the class instance and has self as it's first argument. Which allow to modify the attributes of the class instances. In Python 3 all class methods are by default the bound methods. \n",
    "\n",
    "\n",
    "### Q5. What is the purpose of pseudoprivate attributes?\n",
    "    > Pseudoprivate attributes are the methods starting with double underscore. They are called pseudoprivate because they are not really a private attributes (everyone can see them and override them - in contrast to other OO languages). Private in this case means that only the class object itself can access this data.\n"
   ]
  }
 ],
 "metadata": {
  "kernelspec": {
   "display_name": "Python 3 (ipykernel)",
   "language": "python",
   "name": "python3"
  },
  "language_info": {
   "codemirror_mode": {
    "name": "ipython",
    "version": 3
   },
   "file_extension": ".py",
   "mimetype": "text/x-python",
   "name": "python",
   "nbconvert_exporter": "python",
   "pygments_lexer": "ipython3",
   "version": "3.9.7"
  }
 },
 "nbformat": 4,
 "nbformat_minor": 5
}
