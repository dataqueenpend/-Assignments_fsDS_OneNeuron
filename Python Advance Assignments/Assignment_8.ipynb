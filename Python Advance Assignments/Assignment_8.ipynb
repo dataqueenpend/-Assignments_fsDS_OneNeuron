{
 "cells": [
  {
   "cell_type": "markdown",
   "id": "a7a1dab1",
   "metadata": {},
   "source": [
    "### Q1. What are the two latest user-defined exception constraints in Python 3.X?\n",
    "    * User-defined exception needs to be defined from a superclass Exception\n",
    "    * User-defined exception derived from built-in Exception class is then inherited with user-defined error\n",
    "\n",
    "\n",
    "### Q2. How are class-based exceptions that have been raised matched to handlers?\n",
    "\n",
    "\n",
    "\n",
    "### Q3. Describe two methods for attaching context information to exception artefacts.\n",
    "    > with raise\n",
    "        * except TypeError as e:\n",
    "            raise TypeError('Your message') from e\n",
    "    > with traceback\n",
    "        * except TypeError as e:\n",
    "            rasie Exception('Your message').with_traceback(e.__traceback__)\n",
    "\n",
    "\n",
    "### Q4. Describe two methods for specifying the text of an exception object's error message.\n",
    "    * except:\n",
    "       raise Exception('Custom message')\n",
    "    * by defining new class, that overrides Exception message\n",
    "        > class NewException(Exception):\n",
    "            def __init__(self, message):\n",
    "                super().__init__(message)\n",
    "          message = 'New message'\n",
    "          raise NewExcetion(message)\n",
    "\n",
    "\n",
    "### Q5. Why do you no longer use string-based exceptions?\n",
    "    > Every string-based exception even with the same message, were considered different exceptions. Upon using object-based exception certain type of Exception is always consided the same exception. String-based exception are no longer in use in Python 3. "
   ]
  }
 ],
 "metadata": {
  "kernelspec": {
   "display_name": "Python 3 (ipykernel)",
   "language": "python",
   "name": "python3"
  },
  "language_info": {
   "codemirror_mode": {
    "name": "ipython",
    "version": 3
   },
   "file_extension": ".py",
   "mimetype": "text/x-python",
   "name": "python",
   "nbconvert_exporter": "python",
   "pygments_lexer": "ipython3",
   "version": "3.9.7"
  }
 },
 "nbformat": 4,
 "nbformat_minor": 5
}
