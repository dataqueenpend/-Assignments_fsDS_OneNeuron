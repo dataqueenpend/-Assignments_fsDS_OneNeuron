{
 "cells": [
  {
   "cell_type": "markdown",
   "id": "0fbb35d8",
   "metadata": {},
   "source": [
    "### Q1. What is the purpose of Python's OOP?\n",
    "    > Everything in Python is an object. So to develop robust programs with Python it is necessary to understand and use OOP in Python.\n",
    "\n",
    "\n",
    "### Q2. Where does an inheritance search look for an attribute?\n",
    "    > First in the object itself, then in the classes. From bottom to top.\n",
    "\n",
    "\n",
    "### Q3. How do you distinguish between a class object and an instance object?\n",
    "    > Class is an object in wchich we define set of properties of the object in the given class, f.e. Dog. And the instance object is the object that is created on a base of this class with it's given properties. For example Husky, brown, 57 kg.\n",
    "\n",
    "\n",
    "### Q4. What makes the first argument in a class’s method function special?\n",
    "    > That the first argument of the class method is always self.\n",
    "\n",
    "\n",
    "### Q5. What is the purpose of the __init__ method?\n",
    "    > __init__ is a constructor. We can use it to create multiple variables within the class, that will be required for specifying upon creation of the new instance object. \n",
    "\n",
    "\n",
    "### Q6. What is the process for creating a class instance?\n",
    "    > To create objects with an attributes that are the same as the class object. For example we can create an object 'a' of type list, to create a new list 'a'. The newly created list 'a' have the same properties as the class list.\n",
    "\n",
    "\n",
    "### Q7. What is the process for creating a class?\n",
    "    > We need to use keyword 'class', specify name of the class, define the class attributes and it methods. \n",
    "        > class Example:\n",
    "            def __init__(self, attrib1):\n",
    "                self.attrib1 = attrib1\n",
    "            def method1(self, attrib2):\n",
    "                return self.attrib1 + attrib2\n",
    "\n",
    "\n",
    "### Q8. How would you define the superclasses of a class?\n",
    "    > A class from which class inherits. From it many subclasses (child) can be created. Child classes inherit the properties of the superclass. \n"
   ]
  }
 ],
 "metadata": {
  "kernelspec": {
   "display_name": "Python 3 (ipykernel)",
   "language": "python",
   "name": "python3"
  },
  "language_info": {
   "codemirror_mode": {
    "name": "ipython",
    "version": 3
   },
   "file_extension": ".py",
   "mimetype": "text/x-python",
   "name": "python",
   "nbconvert_exporter": "python",
   "pygments_lexer": "ipython3",
   "version": "3.9.7"
  }
 },
 "nbformat": 4,
 "nbformat_minor": 5
}
