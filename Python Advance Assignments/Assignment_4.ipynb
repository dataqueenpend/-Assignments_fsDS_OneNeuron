{
 "cells": [
  {
   "cell_type": "markdown",
   "id": "6b2f2b33",
   "metadata": {},
   "source": [
    "## Q1. Which two operator overloading methods can you use in your classes to support iteration?\n",
    "    * __iter__ - which returns the iterator object and is called at the start of loops\n",
    "    * __next__ - called at each loop increment and retuns next value\n",
    "\n",
    "\n",
    "## Q2. In what contexts do the two operator overloading methods manage printing?\n",
    "    > No. To print the value from iterable loop and to call the next value, we need to use the function print on iterable (in case of using iter and next operator overloading in class). \n",
    "\n",
    "\n",
    "## Q3. In a class, how do you intercept slice operations?\n",
    "    > with __setitem__ and __delitem__ operator oveloading methods - which allow to override original list methods\n",
    "\n",
    "\n",
    "## Q4. In a class, how do you capture in-place addition?\n",
    "    > With a in class method __iadd__(self, other)\n",
    "     ...inside class..:\n",
    "         def __init__(self, sthg):\n",
    "             self.data = data\n",
    "         def __iadd__(self, other):\n",
    "             self.data += other.data\n",
    "             return self\n",
    "\n",
    "\n",
    "## Q5. When is it appropriate to use operator overloading?\n",
    "    > When we want to extend the original meaning beyond the operator. For example we want to add string and int type data to itself (which is impossible by using predefined operator). \n"
   ]
  }
 ],
 "metadata": {
  "kernelspec": {
   "display_name": "Python 3 (ipykernel)",
   "language": "python",
   "name": "python3"
  },
  "language_info": {
   "codemirror_mode": {
    "name": "ipython",
    "version": 3
   },
   "file_extension": ".py",
   "mimetype": "text/x-python",
   "name": "python",
   "nbconvert_exporter": "python",
   "pygments_lexer": "ipython3",
   "version": "3.9.7"
  }
 },
 "nbformat": 4,
 "nbformat_minor": 5
}
