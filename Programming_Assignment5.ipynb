{
 "cells": [
  {
   "cell_type": "code",
   "execution_count": 1,
   "id": "fddc534b",
   "metadata": {},
   "outputs": [],
   "source": [
    "import logging as lg\n",
    "import os"
   ]
  },
  {
   "cell_type": "markdown",
   "id": "2dcf6043",
   "metadata": {},
   "source": [
    "1. Write a Python Program to Find LCM?"
   ]
  },
  {
   "cell_type": "code",
   "execution_count": null,
   "id": "1232a7de",
   "metadata": {},
   "outputs": [],
   "source": [
    "class Find_LCM:\n",
    "    "
   ]
  },
  {
   "cell_type": "markdown",
   "id": "4b5606ff",
   "metadata": {},
   "source": [
    "5. Write a Python Program to Make a Simple Calculator with 4 basic mathematical operations?"
   ]
  },
  {
   "cell_type": "code",
   "execution_count": 4,
   "id": "8e6b7c96",
   "metadata": {},
   "outputs": [],
   "source": [
    "from tkinter import * #Importing tkinter\n",
    "\n",
    "class Calculator:\n",
    "    def __init__(self, parent, x,y):\n",
    "        self.button_font = ('Verdana', 15)\n",
    "        self.entry_font = ('Verdana', 20)\n",
    "        self.parent  = parent\n",
    "        \n",
    "        self.button_width = 4\n",
    "        self.button_height = 1\n",
    "        \n",
    "        self.container = Frame(self.parent)\n",
    "        self.container.grid(row=x, column=y)\n",
    "        \n",
    "        self.string = ''\n",
    "        \n",
    "        self.entry(0,0)\n",
    "        \n",
    "        self.button('7', 1, 0)\n",
    "        self.button('8', 1, 1)\n",
    "        self.button('9', 1, 2)\n",
    "        \n",
    "        self.button('4', 2, 0)\n",
    "        self.button('5', 2, 1)\n",
    "        self.button('6', 2, 2)\n",
    "        \n",
    "        self.button('1', 3, 0)\n",
    "        self.button('2', 3, 1)\n",
    "        self.button('3', 3, 2)\n",
    "        \n",
    "        self.button('0', 4, 0)\n",
    "        \n",
    "        self.button('+', 1, 3)\n",
    "        self.button('-', 2, 3)\n",
    "        self.button('*', 1, 4)\n",
    "        self.button('/', 2, 4)\n",
    "        \n",
    "        self.button('(', 3, 3)\n",
    "        self.button(')', 3, 4)\n",
    "        \n",
    "        self.button_eq('=', 4, 1)\n",
    "        self.button_clear('clear', 4, 3)\n",
    "        self.button_rem('<', 4, 4)\n",
    "    \n",
    "    def button_eq(self, char_, x_,y_):\n",
    "        self.b = Button(\n",
    "            self.container, text=char_, width=self.button_width,\n",
    "            height=self.button_height, font=self.entry_font)\n",
    "        self.b.grid(row=x_, column=y_, sticky='we', columnspan=2)\n",
    "    \n",
    "    def button_rem(self, char_, x_, y_):\n",
    "        self.b = Button(\n",
    "            self.container, text=char_, width=self.button_width,\n",
    "            height=self.button_height, font=self.entry_font)\n",
    "        self.b.grid(row=x_, columns=y_)\n",
    "    \n",
    "    def button_clear(self, char_, x_, y_):\n",
    "        self.b = Button(\n",
    "            self.container, text=char_, width=self.button_width,\n",
    "            height=self.button_height, font=self.entry_font)\n",
    "        self.b.grid(row=x_, column=y_)\n",
    "        \n",
    "    def button(self, char_, x_,y_):\n",
    "        self.b = Button(\n",
    "            self.container, text=char_, width=self.button_width,\n",
    "            height=self.button_height, font=self.entry_font)\n",
    "        self.b.grid(row=x_, column=y_)\n",
    "    \n",
    "    def entry(self, x_,y_):\n",
    "        self.entry = Text(\n",
    "            self.container, font=self.entry_font, state=DISABLED,\n",
    "            height=self.button_height//2, width=self.button_width*5)\n",
    "        self.entry.grid(row=x_, column=y_, columnspan=5, sticky='we')\n",
    "    \n",
    "    def display(self, text_):\n",
    "        self.entry.config(state=NORMAL)\n",
    "        self.entry.delete('1.0', END)\n",
    "        self.entry.inser('1.0', text_)\n",
    "        self.entry.config(state=DISABLED)\n",
    "    \n",
    "    def normal_button_click(self, text_):\n",
    "        self.string = '' + self.string + text_\n",
    "        self.display(self.string)\n",
    "    \n",
    "    def equal_button_click(self):\n",
    "        self.display(eval(self.string))\n",
    "        self.string = ''\n",
    "            \n",
    "class App:\n",
    "    def __init__(self, master):\n",
    "            self.master = master\n",
    "            calc = Calculator(self.master, 0,0)\n",
    "\n",
    "root = Tk()\n",
    "app = App(root)\n",
    "root.title('Simple Calculator')\n",
    "root.mainloop()\n"
   ]
  },
  {
   "cell_type": "code",
   "execution_count": null,
   "id": "d0876efd",
   "metadata": {},
   "outputs": [],
   "source": []
  }
 ],
 "metadata": {
  "kernelspec": {
   "display_name": "Python 3 (ipykernel)",
   "language": "python",
   "name": "python3"
  },
  "language_info": {
   "codemirror_mode": {
    "name": "ipython",
    "version": 3
   },
   "file_extension": ".py",
   "mimetype": "text/x-python",
   "name": "python",
   "nbconvert_exporter": "python",
   "pygments_lexer": "ipython3",
   "version": "3.9.7"
  }
 },
 "nbformat": 4,
 "nbformat_minor": 5
}
