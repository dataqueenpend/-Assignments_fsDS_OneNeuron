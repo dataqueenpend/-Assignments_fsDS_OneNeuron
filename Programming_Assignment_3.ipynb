{
  "nbformat": 4,
  "nbformat_minor": 0,
  "metadata": {
    "colab": {
      "name": "Programming Assignment_3.ipynb",
      "provenance": [],
      "authorship_tag": "ABX9TyN0GEsiOJk2KrHAECPOu3HP",
      "include_colab_link": true
    },
    "kernelspec": {
      "name": "python3",
      "display_name": "Python 3"
    },
    "language_info": {
      "name": "python"
    }
  },
  "cells": [
    {
      "cell_type": "markdown",
      "metadata": {
        "id": "view-in-github",
        "colab_type": "text"
      },
      "source": [
        "<a href=\"https://colab.research.google.com/github/dataqueenpend/-Assignments_fsDS_OneNeuron/blob/main/Programming_Assignment_3.ipynb\" target=\"_parent\"><img src=\"https://colab.research.google.com/assets/colab-badge.svg\" alt=\"Open In Colab\"/></a>"
      ]
    },
    {
      "cell_type": "markdown",
      "source": [
        "Write a Python Program to Check if a Number is Positive, Negative or Zero?\n"
      ],
      "metadata": {
        "id": "3x_QaPScHqS-"
      }
    },
    {
      "cell_type": "code",
      "execution_count": null,
      "metadata": {
        "id": "8egdwHkPBJv9"
      },
      "outputs": [],
      "source": [
        "def check_the_number():\n",
        "  \"\"\"Program asks user for a number and checks if it's positive, negative or zero\"\"\"\n",
        "  num = float(input('Type a number: '))\n",
        "\n",
        "  if num > 0:\n",
        "    print('{} is a positive number'.format(num))\n",
        "  elif num < 0:\n",
        "    print('{} is a negative number'.format(num))\n",
        "  else:\n",
        "    print('{} is equal to zero')"
      ]
    },
    {
      "cell_type": "code",
      "source": [
        "check_the_number()"
      ],
      "metadata": {
        "colab": {
          "base_uri": "https://localhost:8080/"
        },
        "id": "zi1RrHk5IqX2",
        "outputId": "5d7971de-c5e3-4819-9ebd-201b8d39f59c"
      },
      "execution_count": null,
      "outputs": [
        {
          "output_type": "stream",
          "name": "stdout",
          "text": [
            "Type a number: -3\n",
            "-3.0 is a negative number\n"
          ]
        }
      ]
    },
    {
      "cell_type": "markdown",
      "source": [
        "Write a Python Program to Check if a Number is Odd or Even?\n",
        "\n"
      ],
      "metadata": {
        "id": "WwcP9OlxHsfu"
      }
    },
    {
      "cell_type": "code",
      "source": [
        "def odd_or_even():\n",
        "  \"\"\"Program asks user for a number and checks if it's odd or even\"\"\"\n",
        "  num = float(input('Type a number: '))\n",
        "\n",
        "  if num % 2 == 0:\n",
        "    print('{} is an even number'.format(num))\n",
        "  else:\n",
        "    print('{} is an odd number'.format(num))"
      ],
      "metadata": {
        "id": "ZsZbg7CVIw29"
      },
      "execution_count": null,
      "outputs": []
    },
    {
      "cell_type": "code",
      "source": [
        "odd_or_even()"
      ],
      "metadata": {
        "colab": {
          "base_uri": "https://localhost:8080/"
        },
        "id": "EGeM7hwGJQaD",
        "outputId": "ffa130ea-a5d3-4ecb-8ae5-b14c9f091487"
      },
      "execution_count": null,
      "outputs": [
        {
          "output_type": "stream",
          "name": "stdout",
          "text": [
            "Type a number: 113\n",
            "113.0 is an odd number\n"
          ]
        }
      ]
    },
    {
      "cell_type": "markdown",
      "source": [
        "Write a Python Program to Check Leap Year?\n"
      ],
      "metadata": {
        "id": "KlPLqPfwHt25"
      }
    },
    {
      "cell_type": "code",
      "source": [
        "def leap_year_detector():\n",
        "  \"\"\"Checks if year is a leap year. \n",
        "  Outputs True - if year is a leap year. \n",
        "  Outputs False if year is not a leap year.\"\"\"\n",
        "  \n",
        "  year = int(input('Type a year: '))\n",
        "\n",
        "  if (year % 4 ==0 )and (year % 100 != 0):\n",
        "    return True\n",
        "  elif (year % 400 == 0) and (year % 100 != 0):\n",
        "    return True\n",
        "  elif year % 4 == 0 and year % 100 == 0 and year % 400 ==0:\n",
        "    return True\n",
        "  else:\n",
        "    return False"
      ],
      "metadata": {
        "id": "4F_u9jrytotD"
      },
      "execution_count": 19,
      "outputs": []
    },
    {
      "cell_type": "code",
      "source": [
        "leap_year_detector()"
      ],
      "metadata": {
        "colab": {
          "base_uri": "https://localhost:8080/"
        },
        "id": "_ScQ3hGPt3CT",
        "outputId": "01e7a394-f01f-40e4-ac37-6f37e5c89a60"
      },
      "execution_count": 22,
      "outputs": [
        {
          "name": "stdout",
          "output_type": "stream",
          "text": [
            "Type a year: 3125\n"
          ]
        },
        {
          "output_type": "execute_result",
          "data": {
            "text/plain": [
              "False"
            ]
          },
          "metadata": {},
          "execution_count": 22
        }
      ]
    },
    {
      "cell_type": "markdown",
      "source": [
        "Write a Python Program to Check Prime Number?\n"
      ],
      "metadata": {
        "id": "mSzHAsuAHvLI"
      }
    },
    {
      "cell_type": "code",
      "source": [
        "def is_prime():\n",
        "    \"\"\"Primality test using 6k+-1 optimization.\"\"\"\n",
        "\n",
        "    n = int(input('Type a number: '))\n",
        "    if n <= 3:\n",
        "        return n > 1\n",
        "    if n % 2 == 0 or n % 3 == 0:\n",
        "        return False\n",
        "    i = 5\n",
        "    while i ** 2 <= n:\n",
        "        if n % i == 0 or n % (i + 2) == 0:\n",
        "            return False\n",
        "        i += 6\n",
        "    return True"
      ],
      "metadata": {
        "id": "claCDRpYK2aI"
      },
      "execution_count": null,
      "outputs": []
    },
    {
      "cell_type": "code",
      "source": [
        "is_prime()\n"
      ],
      "metadata": {
        "id": "VEuEp1hKMKfH",
        "colab": {
          "base_uri": "https://localhost:8080/"
        },
        "outputId": "d2aa5d79-faab-4e86-ab1f-15dfd1a1449d"
      },
      "execution_count": null,
      "outputs": [
        {
          "name": "stdout",
          "output_type": "stream",
          "text": [
            "Type a number: 2\n"
          ]
        },
        {
          "output_type": "execute_result",
          "data": {
            "text/plain": [
              "True"
            ]
          },
          "metadata": {},
          "execution_count": 49
        }
      ]
    },
    {
      "cell_type": "markdown",
      "source": [
        "Write a Python Program to Print all Prime Numbers in an Interval of 1-10000?"
      ],
      "metadata": {
        "id": "0724duXNHwQ2"
      }
    },
    {
      "cell_type": "code",
      "source": [
        "def print_primes():\n",
        "  primes = []\n",
        "  for i in range(1, 100):\n",
        "    if i == 0 or i ==1:\n",
        "      continue\n",
        "    else:\n",
        "      for j in range(2, int(i/2)+1):\n",
        "        if i % j == 0:\n",
        "          break\n",
        "      else:\n",
        "        primes.append(i)\n",
        "  return primes\n"
      ],
      "metadata": {
        "id": "wB4jq4FlyKXD"
      },
      "execution_count": 33,
      "outputs": []
    },
    {
      "cell_type": "code",
      "source": [
        "print_primes()"
      ],
      "metadata": {
        "colab": {
          "base_uri": "https://localhost:8080/"
        },
        "id": "Wh3TXZc43Y3t",
        "outputId": "c0934630-8dd1-48cc-cb6d-8ee9f38e1abc"
      },
      "execution_count": 34,
      "outputs": [
        {
          "output_type": "execute_result",
          "data": {
            "text/plain": [
              "[2,\n",
              " 3,\n",
              " 5,\n",
              " 7,\n",
              " 11,\n",
              " 13,\n",
              " 17,\n",
              " 19,\n",
              " 23,\n",
              " 29,\n",
              " 31,\n",
              " 37,\n",
              " 41,\n",
              " 43,\n",
              " 47,\n",
              " 53,\n",
              " 59,\n",
              " 61,\n",
              " 67,\n",
              " 71,\n",
              " 73,\n",
              " 79,\n",
              " 83,\n",
              " 89,\n",
              " 97]"
            ]
          },
          "metadata": {},
          "execution_count": 34
        }
      ]
    }
  ]
}