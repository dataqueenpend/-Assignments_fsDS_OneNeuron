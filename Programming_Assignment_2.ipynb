{
  "nbformat": 4,
  "nbformat_minor": 0,
  "metadata": {
    "colab": {
      "name": "Programming Assignment_2.ipynb",
      "provenance": [],
      "collapsed_sections": [],
      "authorship_tag": "ABX9TyM5pK37qOsNrd2L2FEh2KKU",
      "include_colab_link": true
    },
    "kernelspec": {
      "name": "python3",
      "display_name": "Python 3"
    },
    "language_info": {
      "name": "python"
    }
  },
  "cells": [
    {
      "cell_type": "markdown",
      "metadata": {
        "id": "view-in-github",
        "colab_type": "text"
      },
      "source": [
        "<a href=\"https://colab.research.google.com/github/dataqueenpend/-Assignments_fsDS_OneNeuron/blob/main/Programming_Assignment_2.ipynb\" target=\"_parent\"><img src=\"https://colab.research.google.com/assets/colab-badge.svg\" alt=\"Open In Colab\"/></a>"
      ]
    },
    {
      "cell_type": "markdown",
      "source": [
        "Write a Python program to convert kilometers to miles?\n"
      ],
      "metadata": {
        "id": "nc71oAC_dKR-"
      }
    },
    {
      "cell_type": "code",
      "execution_count": null,
      "metadata": {
        "id": "RFz-wsQmdGTd"
      },
      "outputs": [],
      "source": [
        "def km_to_mil():\n",
        "  km = int(input('Type in kilometers: '))\n",
        "  miles = km * 0.6214\n",
        "\n",
        "  print('{} kilometers is {} miles'.format(km, miles))"
      ]
    },
    {
      "cell_type": "code",
      "source": [
        "km_to_mil()"
      ],
      "metadata": {
        "colab": {
          "base_uri": "https://localhost:8080/"
        },
        "id": "PQyOwRq_d94D",
        "outputId": "fee7cee4-cd87-42a0-f816-1cb608dd7da1"
      },
      "execution_count": null,
      "outputs": [
        {
          "output_type": "stream",
          "name": "stdout",
          "text": [
            "Type in kilometers: 23\n",
            "23 kilometers is 14.2922 miles\n"
          ]
        }
      ]
    },
    {
      "cell_type": "markdown",
      "source": [
        "Write a Python program to convert Celsius to Fahrenheit?\n"
      ],
      "metadata": {
        "id": "lK0DmqgpdLOy"
      }
    },
    {
      "cell_type": "code",
      "source": [
        "def cel_to_fahr():\n",
        "  cel = int(input('Type in temperature in Celsius: '))\n",
        "  fahr = (cel*1.8) + 32\n",
        "\n",
        "  print('{} Celsius is {} Fahrenheit'.format(cel, fahr))"
      ],
      "metadata": {
        "id": "Gw42OSxGeJcS"
      },
      "execution_count": null,
      "outputs": []
    },
    {
      "cell_type": "code",
      "source": [
        "cel_to_fahr()"
      ],
      "metadata": {
        "colab": {
          "base_uri": "https://localhost:8080/"
        },
        "id": "XyDXYKzXem3W",
        "outputId": "a2819a8c-9fef-40db-813a-c0247f2b78b2"
      },
      "execution_count": null,
      "outputs": [
        {
          "output_type": "stream",
          "name": "stdout",
          "text": [
            "Type in temperature in Celsius: 23\n",
            "23 Celsius is 73.4 Fahrenheit\n"
          ]
        }
      ]
    },
    {
      "cell_type": "markdown",
      "source": [
        "Write a Python program to display calendar?\n"
      ],
      "metadata": {
        "id": "wGmQhgyodLqL"
      }
    },
    {
      "cell_type": "code",
      "source": [
        "def display_calendar():\n",
        "  import calendar\n",
        "\n",
        "  yy = int(input('Type a year: '))\n",
        "  mm = int(input('Type a month: '))\n",
        "\n",
        "  print(calendar.month(yy,mm))"
      ],
      "metadata": {
        "id": "470qtDqoGBwB"
      },
      "execution_count": 66,
      "outputs": []
    },
    {
      "cell_type": "code",
      "source": [
        "display_calendar()"
      ],
      "metadata": {
        "colab": {
          "base_uri": "https://localhost:8080/"
        },
        "id": "fYETd5ujGo2N",
        "outputId": "d071aa1a-3009-424c-f7e2-3f4b06e21ba6"
      },
      "execution_count": 67,
      "outputs": [
        {
          "output_type": "stream",
          "name": "stdout",
          "text": [
            "Type a year: 1990\n",
            "Type a month: 09\n",
            "   September 1990\n",
            "Mo Tu We Th Fr Sa Su\n",
            "                1  2\n",
            " 3  4  5  6  7  8  9\n",
            "10 11 12 13 14 15 16\n",
            "17 18 19 20 21 22 23\n",
            "24 25 26 27 28 29 30\n",
            "\n"
          ]
        }
      ]
    },
    {
      "cell_type": "markdown",
      "source": [
        "Write a Python program to solve quadratic equation?\n"
      ],
      "metadata": {
        "id": "y6LuZJLidOei"
      }
    },
    {
      "cell_type": "code",
      "source": [
        "\n",
        "def quad_solver():\n",
        "  a = int(input('Type the value of a: '))\n",
        "  b = int(input('Type the value of b: '))\n",
        "  c = int(input('Type the value of c: '))\n",
        "  import math\n",
        "\n",
        "  result1 = (-b + math.sqrt(abs((b**2)- (4*a*c))))/(2*a)\n",
        "  result2 = (-b - math.sqrt(abs((b**2)- (4*a*c))))/(2*a)\n",
        "\n",
        "  print('Result to quadratic equations is {} or {}'.format(result1, result2))"
      ],
      "metadata": {
        "id": "uwdu-7OU23-7"
      },
      "execution_count": 64,
      "outputs": []
    },
    {
      "cell_type": "code",
      "source": [
        "quad_solver()"
      ],
      "metadata": {
        "colab": {
          "base_uri": "https://localhost:8080/"
        },
        "id": "u1KD0YczAEcN",
        "outputId": "cbc63adf-cb74-4148-bc92-767c9addd6d9"
      },
      "execution_count": 65,
      "outputs": [
        {
          "output_type": "stream",
          "name": "stdout",
          "text": [
            "Type the value of a: 2\n",
            "Type the value of b: 3\n",
            "Type the value of c: 4\n",
            "Result to quadratic equations is 0.4489578808281798 or -1.9489578808281798\n"
          ]
        }
      ]
    },
    {
      "cell_type": "markdown",
      "source": [
        "Write a Python program to swap two variables without temp variable?\n"
      ],
      "metadata": {
        "id": "L8RZHx_bdPWi"
      }
    },
    {
      "cell_type": "code",
      "source": [
        "def swapper(x,y):\n",
        "  y,x = x,y\n",
        "  return (x,y)"
      ],
      "metadata": {
        "id": "UGhBVD6GG8Sg"
      },
      "execution_count": 68,
      "outputs": []
    },
    {
      "cell_type": "code",
      "source": [
        "x = 1\n",
        "y = 3"
      ],
      "metadata": {
        "id": "oQprgeiiHQz9"
      },
      "execution_count": 69,
      "outputs": []
    },
    {
      "cell_type": "code",
      "source": [
        "swapper(x,y)"
      ],
      "metadata": {
        "colab": {
          "base_uri": "https://localhost:8080/"
        },
        "id": "n2_8xPT1HTID",
        "outputId": "491705a4-6174-4cc9-c3ab-a7db5165eb30"
      },
      "execution_count": 71,
      "outputs": [
        {
          "output_type": "execute_result",
          "data": {
            "text/plain": [
              "(3, 1)"
            ]
          },
          "metadata": {},
          "execution_count": 71
        }
      ]
    }
  ]
}