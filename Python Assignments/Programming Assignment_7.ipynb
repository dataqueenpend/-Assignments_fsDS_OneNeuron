{
 "cells": [
  {
   "cell_type": "markdown",
   "id": "578477ba",
   "metadata": {},
   "source": [
    "### Write a Python Program to find sum of array?"
   ]
  },
  {
   "cell_type": "code",
   "execution_count": 1,
   "id": "5a36070c",
   "metadata": {},
   "outputs": [],
   "source": [
    "def sum_arr(array):\n",
    "    import numpy as np\n",
    "    return np.sum(array)"
   ]
  },
  {
   "cell_type": "code",
   "execution_count": 2,
   "id": "4e49e6b3",
   "metadata": {},
   "outputs": [],
   "source": [
    "import numpy as np\n",
    "arr = np.array([[1,2], [2,3]])"
   ]
  },
  {
   "cell_type": "code",
   "execution_count": 5,
   "id": "5180a552",
   "metadata": {},
   "outputs": [
    {
     "data": {
      "text/plain": [
       "8"
      ]
     },
     "execution_count": 5,
     "metadata": {},
     "output_type": "execute_result"
    }
   ],
   "source": [
    "sum_arr(arr)"
   ]
  },
  {
   "cell_type": "markdown",
   "id": "4e2badc2",
   "metadata": {},
   "source": [
    "### Write a Python Program to find largest element in an array?"
   ]
  },
  {
   "cell_type": "code",
   "execution_count": 6,
   "id": "d9bd954a",
   "metadata": {},
   "outputs": [],
   "source": [
    "def larg_element(array):\n",
    "    import numpy as np\n",
    "    return np.max(array)"
   ]
  },
  {
   "cell_type": "code",
   "execution_count": 7,
   "id": "6de18240",
   "metadata": {},
   "outputs": [
    {
     "data": {
      "text/plain": [
       "3"
      ]
     },
     "execution_count": 7,
     "metadata": {},
     "output_type": "execute_result"
    }
   ],
   "source": [
    "larg_element(arr)"
   ]
  },
  {
   "cell_type": "markdown",
   "id": "a9590c56",
   "metadata": {},
   "source": [
    "### Write a Python Program for array rotation?"
   ]
  },
  {
   "cell_type": "code",
   "execution_count": 5,
   "id": "fc6710a5",
   "metadata": {},
   "outputs": [],
   "source": [
    "def arr_rotation(arr, d):\n",
    "    \"\"\"Roatates array (arr) by d number of elements.\"\"\"\n",
    "    l = len(arr)\n",
    "    arr[:] = arr[d:len(arr)] + arr[0:d]\n",
    "    return arr"
   ]
  },
  {
   "cell_type": "code",
   "execution_count": 12,
   "id": "de813df7",
   "metadata": {},
   "outputs": [],
   "source": [
    "arr = [1,2,3,4,5]"
   ]
  },
  {
   "cell_type": "code",
   "execution_count": 13,
   "id": "d5f505ef",
   "metadata": {},
   "outputs": [
    {
     "data": {
      "text/plain": [
       "[2, 3, 4, 5, 1]"
      ]
     },
     "execution_count": 13,
     "metadata": {},
     "output_type": "execute_result"
    }
   ],
   "source": [
    "arr_rotation(arr, 1)"
   ]
  },
  {
   "cell_type": "markdown",
   "id": "ca1211dd",
   "metadata": {},
   "source": [
    "### Write a Python Program to Split the array and add the first part to the end?"
   ]
  },
  {
   "cell_type": "code",
   "execution_count": 14,
   "id": "a0e04296",
   "metadata": {},
   "outputs": [],
   "source": [
    "def split_end_first(arr, n):\n",
    "    \"\"\"Splits array (arr) on nth index.\"\"\"\n",
    "    ar_first = arr[:n]\n",
    "    ar_last = arr[n:]\n",
    "    return ar_last+ar_first"
   ]
  },
  {
   "cell_type": "code",
   "execution_count": 16,
   "id": "b757e21a",
   "metadata": {},
   "outputs": [
    {
     "data": {
      "text/plain": [
       "[4, 5, 1, 2, 3]"
      ]
     },
     "execution_count": 16,
     "metadata": {},
     "output_type": "execute_result"
    }
   ],
   "source": [
    "split_end_first(arr, 2)"
   ]
  },
  {
   "cell_type": "markdown",
   "id": "3e15bab7",
   "metadata": {},
   "source": [
    "### Write a Python Program to check if given array is Monotonic?"
   ]
  },
  {
   "cell_type": "code",
   "execution_count": 7,
   "id": "3cf63176",
   "metadata": {},
   "outputs": [],
   "source": [
    "def monotonic(arr):\n",
    "    \"\"\"Checks if given array (arr) is monotonic.\"\"\"\n",
    "    if len(arr) == 1:\n",
    "        return True\n",
    "    else:\n",
    "        if all(arr[i] >= arr[i+1] for i in range(0, (len(arr)-1)) or arr[i] <= a[i+1] for i in range (0, (len(arr)-1))):\n",
    "            return True\n",
    "        else:\n",
    "            return False"
   ]
  },
  {
   "cell_type": "code",
   "execution_count": 12,
   "id": "5b2b94a9",
   "metadata": {},
   "outputs": [],
   "source": [
    "import numpy as np\n",
    "arr = np.array([0,2,3,4,5])\n",
    "A = [6, 5, 4, 2]"
   ]
  },
  {
   "cell_type": "code",
   "execution_count": 13,
   "id": "3d3de431",
   "metadata": {},
   "outputs": [
    {
     "data": {
      "text/plain": [
       "False"
      ]
     },
     "execution_count": 13,
     "metadata": {},
     "output_type": "execute_result"
    }
   ],
   "source": [
    "monotonic(arr)"
   ]
  }
 ],
 "metadata": {
  "kernelspec": {
   "display_name": "Python 3 (ipykernel)",
   "language": "python",
   "name": "python3"
  },
  "language_info": {
   "codemirror_mode": {
    "name": "ipython",
    "version": 3
   },
   "file_extension": ".py",
   "mimetype": "text/x-python",
   "name": "python",
   "nbconvert_exporter": "python",
   "pygments_lexer": "ipython3",
   "version": "3.9.12"
  }
 },
 "nbformat": 4,
 "nbformat_minor": 5
}
