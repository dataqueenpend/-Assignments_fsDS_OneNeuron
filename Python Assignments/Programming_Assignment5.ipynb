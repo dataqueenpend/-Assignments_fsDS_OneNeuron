{
 "cells": [
  {
   "cell_type": "markdown",
   "id": "2dcf6043",
   "metadata": {},
   "source": [
    "1. Write a Python Program to Find LCM?"
   ]
  },
  {
   "cell_type": "code",
   "execution_count": 1,
   "id": "1232a7de",
   "metadata": {},
   "outputs": [],
   "source": [
    "class Finder:\n",
    "    import logging as lg\n",
    "    import numpy as np\n",
    "    lg.basicConfig(filename='FindLCM.log', level=lg.ERROR)\n",
    "    \n",
    "    def __init__(self, *args):\n",
    "        self.args = args\n",
    "    \n",
    "    def lcm(self, self.args):\n",
    "        try:\n",
    "            l = []\n",
    "            for c, ar in enumerate(self.args):\n",
    "                l.append([])\n",
    "                dividers = np.linspace(1, ar, ar)\n",
    "                for j in dividers:\n",
    "                    if ar % j == 0 and j != 1:\n",
    "                        l[c].append(j)\n",
    "                \n",
    "    "
   ]
  },
  {
   "cell_type": "code",
   "execution_count": 5,
   "id": "617fc4f1",
   "metadata": {},
   "outputs": [
    {
     "data": {
      "text/plain": [
       "array([  1.,   2.,   3.,   4.,   5.,   6.,   7.,   8.,   9.,  10.,  11.,\n",
       "        12.,  13.,  14.,  15.,  16.,  17.,  18.,  19.,  20.,  21.,  22.,\n",
       "        23.,  24.,  25.,  26.,  27.,  28.,  29.,  30.,  31.,  32.,  33.,\n",
       "        34.,  35.,  36.,  37.,  38.,  39.,  40.,  41.,  42.,  43.,  44.,\n",
       "        45.,  46.,  47.,  48.,  49.,  50.,  51.,  52.,  53.,  54.,  55.,\n",
       "        56.,  57.,  58.,  59.,  60.,  61.,  62.,  63.,  64.,  65.,  66.,\n",
       "        67.,  68.,  69.,  70.,  71.,  72.,  73.,  74.,  75.,  76.,  77.,\n",
       "        78.,  79.,  80.,  81.,  82.,  83.,  84.,  85.,  86.,  87.,  88.,\n",
       "        89.,  90.,  91.,  92.,  93.,  94.,  95.,  96.,  97.,  98.,  99.,\n",
       "       100.])"
      ]
     },
     "execution_count": 5,
     "metadata": {},
     "output_type": "execute_result"
    }
   ],
   "source": [
    "import numpy as np\n",
    "dividers = np.linspace(1, 100, 100)\n",
    "dividers"
   ]
  },
  {
   "cell_type": "code",
   "execution_count": 91,
   "id": "38b3a397",
   "metadata": {},
   "outputs": [],
   "source": [
    "\n",
    "def take_nums(*args):\n",
    "    l = []\n",
    "    for c, ar in enumerate(args):\n",
    "        l.append([])\n",
    "        dividers = np.linspace(1, ar, ar)\n",
    "        for j in dividers:\n",
    "            if ar % j == 0 and j != 1:\n",
    "                l[c].append(j)\n",
    "    \n",
    "    return l"
   ]
  },
  {
   "cell_type": "code",
   "execution_count": 92,
   "id": "4dd9d200",
   "metadata": {},
   "outputs": [
    {
     "data": {
      "text/plain": [
       "[[2.0,\n",
       "  4.0,\n",
       "  5.0,\n",
       "  8.0,\n",
       "  10.0,\n",
       "  20.0,\n",
       "  25.0,\n",
       "  40.0,\n",
       "  50.0,\n",
       "  100.0,\n",
       "  125.0,\n",
       "  200.0,\n",
       "  250.0,\n",
       "  500.0,\n",
       "  1000.0],\n",
       " [3.0, 79.0, 237.0]]"
      ]
     },
     "execution_count": 92,
     "metadata": {},
     "output_type": "execute_result"
    }
   ],
   "source": [
    "take_nums(1000, 237)"
   ]
  },
  {
   "cell_type": "code",
   "execution_count": 39,
   "id": "0e746b23",
   "metadata": {},
   "outputs": [
    {
     "data": {
      "text/plain": [
       "[[0], [0, 1], [0, 1, 2], [0, 1, 2, 3], [0, 1, 2, 3, 4], []]"
      ]
     },
     "execution_count": 39,
     "metadata": {},
     "output_type": "execute_result"
    }
   ],
   "source": [
    "l = []\n",
    "for i in range(6):\n",
    "    l.append([])\n",
    "    for j in range(i):\n",
    "\n",
    "        l[i-1].append(j)\n",
    "l\n",
    "        "
   ]
  },
  {
   "cell_type": "code",
   "execution_count": 131,
   "id": "1ef8b5d1",
   "metadata": {},
   "outputs": [
    {
     "ename": "TypeError",
     "evalue": "'int' object is not iterable",
     "output_type": "error",
     "traceback": [
      "\u001b[1;31m---------------------------------------------------------------------------\u001b[0m",
      "\u001b[1;31mTypeError\u001b[0m                                 Traceback (most recent call last)",
      "\u001b[1;32m~\\AppData\\Local\\Temp/ipykernel_2888/247664903.py\u001b[0m in \u001b[0;36m<module>\u001b[1;34m\u001b[0m\n\u001b[0;32m      2\u001b[0m     \u001b[0ms\u001b[0m \u001b[1;33m=\u001b[0m \u001b[0mset\u001b[0m\u001b[1;33m(\u001b[0m\u001b[0mi\u001b[0m\u001b[1;33m)\u001b[0m\u001b[1;33m\u001b[0m\u001b[1;33m\u001b[0m\u001b[0m\n\u001b[0;32m      3\u001b[0m     \u001b[1;32mfor\u001b[0m \u001b[0mj\u001b[0m \u001b[1;32min\u001b[0m \u001b[0ms\u001b[0m\u001b[1;33m:\u001b[0m\u001b[1;33m\u001b[0m\u001b[1;33m\u001b[0m\u001b[0m\n\u001b[1;32m----> 4\u001b[1;33m         \u001b[0ms\u001b[0m\u001b[1;33m.\u001b[0m\u001b[0mintersection\u001b[0m\u001b[1;33m(\u001b[0m\u001b[0mj\u001b[0m\u001b[1;33m)\u001b[0m\u001b[1;33m\u001b[0m\u001b[1;33m\u001b[0m\u001b[0m\n\u001b[0m",
      "\u001b[1;31mTypeError\u001b[0m: 'int' object is not iterable"
     ]
    }
   ],
   "source": [
    "for i in l:\n",
    "    s = set(i)\n",
    "    "
   ]
  },
  {
   "cell_type": "code",
   "execution_count": 118,
   "id": "d466e969",
   "metadata": {},
   "outputs": [
    {
     "name": "stdout",
     "output_type": "stream",
     "text": [
      "0\n",
      "0\n",
      "0\n",
      "0\n",
      "0\n"
     ]
    },
    {
     "ename": "ValueError",
     "evalue": "min() arg is an empty sequence",
     "output_type": "error",
     "traceback": [
      "\u001b[1;31m---------------------------------------------------------------------------\u001b[0m",
      "\u001b[1;31mValueError\u001b[0m                                Traceback (most recent call last)",
      "\u001b[1;32m~\\AppData\\Local\\Temp/ipykernel_2888/2217573376.py\u001b[0m in \u001b[0;36m<module>\u001b[1;34m\u001b[0m\n\u001b[0;32m      1\u001b[0m \u001b[1;32mfor\u001b[0m \u001b[0mi\u001b[0m\u001b[1;33m,\u001b[0m \u001b[0mnum\u001b[0m \u001b[1;32min\u001b[0m \u001b[0menumerate\u001b[0m\u001b[1;33m(\u001b[0m\u001b[0ml\u001b[0m\u001b[1;33m)\u001b[0m\u001b[1;33m:\u001b[0m\u001b[1;33m\u001b[0m\u001b[1;33m\u001b[0m\u001b[0m\n\u001b[1;32m----> 2\u001b[1;33m     \u001b[0mprint\u001b[0m\u001b[1;33m(\u001b[0m\u001b[0mmin\u001b[0m\u001b[1;33m(\u001b[0m\u001b[0ml\u001b[0m\u001b[1;33m[\u001b[0m\u001b[0mi\u001b[0m\u001b[1;33m]\u001b[0m\u001b[1;33m)\u001b[0m\u001b[1;33m)\u001b[0m\u001b[1;33m\u001b[0m\u001b[1;33m\u001b[0m\u001b[0m\n\u001b[0m",
      "\u001b[1;31mValueError\u001b[0m: min() arg is an empty sequence"
     ]
    }
   ],
   "source": [
    "for i, num in enumerate(l):\n",
    "    print(min(l[i]))"
   ]
  },
  {
   "cell_type": "code",
   "execution_count": 109,
   "id": "14e81eba",
   "metadata": {},
   "outputs": [
    {
     "ename": "TypeError",
     "evalue": "'int' object is not iterable",
     "output_type": "error",
     "traceback": [
      "\u001b[1;31m---------------------------------------------------------------------------\u001b[0m",
      "\u001b[1;31mTypeError\u001b[0m                                 Traceback (most recent call last)",
      "\u001b[1;32m~\\AppData\\Local\\Temp/ipykernel_2888/2031543680.py\u001b[0m in \u001b[0;36m<module>\u001b[1;34m\u001b[0m\n\u001b[0;32m      2\u001b[0m     \u001b[1;31m#print(num)\u001b[0m\u001b[1;33m\u001b[0m\u001b[1;33m\u001b[0m\u001b[0m\n\u001b[0;32m      3\u001b[0m     \u001b[1;31m#print(type(i))\u001b[0m\u001b[1;33m\u001b[0m\u001b[1;33m\u001b[0m\u001b[0m\n\u001b[1;32m----> 4\u001b[1;33m     \u001b[1;32mfor\u001b[0m \u001b[0mj\u001b[0m \u001b[1;32min\u001b[0m \u001b[0mnum\u001b[0m\u001b[1;33m[\u001b[0m\u001b[0mi\u001b[0m\u001b[1;33m]\u001b[0m\u001b[1;33m:\u001b[0m\u001b[1;33m\u001b[0m\u001b[1;33m\u001b[0m\u001b[0m\n\u001b[0m\u001b[0;32m      5\u001b[0m         \u001b[0mprint\u001b[0m\u001b[1;33m(\u001b[0m\u001b[0mtype\u001b[0m\u001b[1;33m(\u001b[0m\u001b[0mj\u001b[0m\u001b[1;33m)\u001b[0m\u001b[1;33m)\u001b[0m\u001b[1;33m\u001b[0m\u001b[1;33m\u001b[0m\u001b[0m\n\u001b[0;32m      6\u001b[0m         \u001b[0mprint\u001b[0m\u001b[1;33m(\u001b[0m\u001b[0mj\u001b[0m\u001b[1;33m)\u001b[0m\u001b[1;33m\u001b[0m\u001b[1;33m\u001b[0m\u001b[0m\n",
      "\u001b[1;31mTypeError\u001b[0m: 'int' object is not iterable"
     ]
    }
   ],
   "source": [
    "for i, num in enumerate(l):\n",
    "    #print(num)\n",
    "    #print(type(i))\n",
    "    for j in num[i]:\n",
    "        print(type(j))\n",
    "        print(j)\n",
    "    "
   ]
  },
  {
   "cell_type": "code",
   "execution_count": 112,
   "id": "b704ded6",
   "metadata": {},
   "outputs": [
    {
     "name": "stdout",
     "output_type": "stream",
     "text": [
      "[0]\n",
      "PRINTING J 0 <class 'int'>\n",
      "[0, 1]\n",
      "PRINTING J 0 <class 'int'>\n",
      "PRINTING J 1 <class 'int'>\n",
      "[0, 1, 2]\n",
      "PRINTING J 0 <class 'int'>\n",
      "PRINTING J 1 <class 'int'>\n",
      "PRINTING J 2 <class 'int'>\n",
      "[0, 1, 2, 3]\n",
      "PRINTING J 0 <class 'int'>\n",
      "PRINTING J 1 <class 'int'>\n",
      "PRINTING J 2 <class 'int'>\n",
      "PRINTING J 3 <class 'int'>\n",
      "[0, 1, 2, 3, 4]\n",
      "PRINTING J 0 <class 'int'>\n",
      "PRINTING J 1 <class 'int'>\n",
      "PRINTING J 2 <class 'int'>\n",
      "PRINTING J 3 <class 'int'>\n",
      "PRINTING J 4 <class 'int'>\n",
      "[]\n"
     ]
    }
   ],
   "source": [
    "for i in l:\n",
    "    print(i)\n",
    "    for j in i:\n",
    "        print('PRINTING J',j)"
   ]
  },
  {
   "cell_type": "markdown",
   "id": "4b5606ff",
   "metadata": {},
   "source": [
    "5. Write a Python Program to Make a Simple Calculator with 4 basic mathematical operations?"
   ]
  },
  {
   "cell_type": "code",
   "execution_count": 13,
   "id": "8e6b7c96",
   "metadata": {},
   "outputs": [],
   "source": [
    "class Simple_Calculator:\n",
    "    \"\"\"Simple Calculator class performs 4 kinds of basic mathematical operations.\n",
    "    \n",
    "    Simple Calculator has 4 methods:\n",
    "        * add -> for adding numbers\n",
    "        * subtract -> for subtracting numbers\n",
    "        * divide -> for dividing numbers\n",
    "        * multiply -> for multiplying numbers\n",
    "    \"\"\"\n",
    "    import logging as lg\n",
    "    lg.basicConfig(filename='SimpleCac.log', level=lg.ERROR)\n",
    "    \n",
    "    def __init__(self, number1):\n",
    "        self.number1 = number1\n",
    "    \n",
    "    def add(self, number2):\n",
    "        try:\n",
    "            self.addition = self.number1 + number2\n",
    "            return (self.addition)\n",
    "        except Exception as e:\n",
    "            self.logging(e)\n",
    "    \n",
    "    def subtract(self, number2):\n",
    "        try:\n",
    "            self.subtraction = self.number1 - number2\n",
    "            return (self.subtraction)\n",
    "        except Expcetion as e:\n",
    "            self.logging(e)\n",
    "    \n",
    "    def divide(self, number2):\n",
    "        try:\n",
    "            self.divide = self.number1 / number2\n",
    "            return (self.divide)\n",
    "        except Exception as e:\n",
    "            self.logging(e)\n",
    "    \n",
    "    def multiply(self, number2):\n",
    "        try:\n",
    "            self.multiply = self.number1 * number2\n",
    "            return (self.multiply)\n",
    "        except Exception as e:\n",
    "            self.logging(e)\n",
    "    \n",
    "    def logging(self,log):\n",
    "        lg.error(log)\n",
    "        "
   ]
  },
  {
   "cell_type": "code",
   "execution_count": null,
   "id": "d0876efd",
   "metadata": {},
   "outputs": [],
   "source": [
    "Simple_Calculator"
   ]
  }
 ],
 "metadata": {
  "kernelspec": {
   "display_name": "Python 3 (ipykernel)",
   "language": "python",
   "name": "python3"
  },
  "language_info": {
   "codemirror_mode": {
    "name": "ipython",
    "version": 3
   },
   "file_extension": ".py",
   "mimetype": "text/x-python",
   "name": "python",
   "nbconvert_exporter": "python",
   "pygments_lexer": "ipython3",
   "version": "3.9.7"
  }
 },
 "nbformat": 4,
 "nbformat_minor": 5
}
