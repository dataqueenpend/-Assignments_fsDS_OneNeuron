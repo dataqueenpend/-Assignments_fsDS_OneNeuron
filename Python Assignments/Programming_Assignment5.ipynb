{
 "cells": [
  {
   "cell_type": "markdown",
   "id": "2dcf6043",
   "metadata": {},
   "source": [
    "## 1. Write a Python Program to Find LCM?\n",
    "## 2. Write a Python Program to Find HCF?"
   ]
  },
  {
   "cell_type": "markdown",
   "id": "3a141dd0",
   "metadata": {},
   "source": [
    "### OOP Solution"
   ]
  },
  {
   "cell_type": "code",
   "execution_count": 40,
   "id": "88d4b00e",
   "metadata": {},
   "outputs": [],
   "source": [
    "import numpy as np\n",
    "import logging as lg"
   ]
  },
  {
   "cell_type": "code",
   "execution_count": 56,
   "id": "1232a7de",
   "metadata": {},
   "outputs": [],
   "source": [
    "class Finder:\n",
    "    \"\"\"Finder takes any number of integer and calculates with a methods:\n",
    "    * lcm - Least Common Multiple,\n",
    "    * hcf - Highest Common Factor.\n",
    "    \"\"\"\n",
    "    import logging as lg\n",
    "    lg.basicConfig(filename='FindLCM.log', level=lg.ERROR)\n",
    "    \n",
    "    def __init__(self, *args):\n",
    "        self.args = args\n",
    "    \n",
    "    #Defining LCM method\n",
    "    def lcm(self):\n",
    "        try:\n",
    "            import numpy as np\n",
    "            self.l = []\n",
    "            for c, ar in enumerate(self.args):\n",
    "                self.l.append([])\n",
    "                self.dividers = np.linspace(1, ar, ar)\n",
    "                for j in self.dividers:\n",
    "                    if ar % j == 0 and j != 1:\n",
    "                        self.l[c].append(j)\n",
    "            self.intersection = set.intersection(*map(set,self.l))\n",
    "            self.lcm = min(self.intersection)\n",
    "            return (self.lcm)\n",
    "        except Exception as e:\n",
    "            self.logging(e)\n",
    "    \n",
    "    #Defining HCF method\n",
    "    def hcf(self):\n",
    "        try:\n",
    "            import numpy as np\n",
    "            self.l = []\n",
    "            for c, ar in enumerate(self.args):\n",
    "                self.l.append([])\n",
    "                self.dividers = np.linspace(1, ar, ar)\n",
    "                for j in self.dividers:\n",
    "                    if ar % j == 0 and j != 1:\n",
    "                        self.l[c].append(j)\n",
    "            self.intersection = set.intersection(*map(set,self.l))\n",
    "            self.hcf = max(self.intersection)\n",
    "            return (self.hcf)\n",
    "        except Exception as e:\n",
    "            self.logging(e)        \n",
    "    \n",
    "    def logging(self, log):\n",
    "        import logging as lg\n",
    "        lg.basicConfig(filename='FindLCM.log', level=lg.ERROR)\n",
    "        lg.error(log)\n",
    "            \n",
    "                \n",
    "    "
   ]
  },
  {
   "cell_type": "code",
   "execution_count": 61,
   "id": "ec8ca874",
   "metadata": {},
   "outputs": [
    {
     "data": {
      "text/plain": [
       "(2.0, None)"
      ]
     },
     "execution_count": 61,
     "metadata": {},
     "output_type": "execute_result"
    }
   ],
   "source": [
    "Finder(200,1050, 300, 12).hcf(), Finder(300, 123, 24, 8).lcm()"
   ]
  },
  {
   "cell_type": "markdown",
   "id": "1bf41d80",
   "metadata": {},
   "source": [
    "### Script language solution"
   ]
  },
  {
   "cell_type": "code",
   "execution_count": 48,
   "id": "38b3a397",
   "metadata": {},
   "outputs": [],
   "source": [
    "def script_lcm_finder(*args):\n",
    "    import numpy as np\n",
    "    l = []\n",
    "    for c, ar in enumerate(args):\n",
    "        l.append([])\n",
    "        dividers = np.linspace(1, ar, ar)\n",
    "        for j in dividers:\n",
    "            if ar % j == 0 and j != 1:\n",
    "                l[c].append(j)\n",
    "                \n",
    "    intersection = set.intersection(*map(set,l))\n",
    "    lcm = min(intersection)  \n",
    "    \n",
    "    return lcm"
   ]
  },
  {
   "cell_type": "code",
   "execution_count": 49,
   "id": "4dd9d200",
   "metadata": {},
   "outputs": [
    {
     "data": {
      "text/plain": [
       "2.0"
      ]
     },
     "execution_count": 49,
     "metadata": {},
     "output_type": "execute_result"
    }
   ],
   "source": [
    "script_lcm_finder(1000, 200)"
   ]
  },
  {
   "cell_type": "code",
   "execution_count": 13,
   "id": "67f954b5",
   "metadata": {},
   "outputs": [],
   "source": [
    "def script_hcf_finder(*args):\n",
    "    import numpy as np\n",
    "    l = []\n",
    "    for c, ar in enumerate(args):\n",
    "        l.append([])\n",
    "        dividers = np.linspace(1, ar, ar)\n",
    "        for j in dividers:\n",
    "            if ar % j == 0 and j != 1:\n",
    "                l[c].append(j)\n",
    "                \n",
    "    intersection = set.intersection(*map(set,l))\n",
    "    hcf = max(intersection)  \n",
    "    \n",
    "    return hcf"
   ]
  },
  {
   "cell_type": "code",
   "execution_count": 15,
   "id": "b2ce287e",
   "metadata": {},
   "outputs": [
    {
     "data": {
      "text/plain": [
       "20.0"
      ]
     },
     "execution_count": 15,
     "metadata": {},
     "output_type": "execute_result"
    }
   ],
   "source": [
    "script_hcf_finder(100,60)"
   ]
  },
  {
   "cell_type": "markdown",
   "id": "93e570f2",
   "metadata": {},
   "source": [
    "## 3. Write a Python Program to Convert Decimal to Binary, Octal and Hexadecimal?"
   ]
  },
  {
   "cell_type": "markdown",
   "id": "5f2dc4a2",
   "metadata": {},
   "source": [
    "### OOP Solution"
   ]
  },
  {
   "cell_type": "code",
   "execution_count": null,
   "id": "be6e6a92",
   "metadata": {},
   "outputs": [],
   "source": [
    "class Converter:\n",
    "    \"\"\"Converts any given number with the methods to:\n",
    "    * bin - Decimal number to Binary number,\n",
    "    * oct - Decimal number to Octal number,\n",
    "    * hex - Decimal number to Hexadecimal number.\n",
    "    \"\"\"\n",
    "    import logging as lg\n",
    "    lg.basicConfig(filename='FindLCM.log', level=lg.ERROR)\n",
    "    \n",
    "    def __init__(self, *args):\n",
    "        self.args = args\n",
    "    \n",
    "    #Defining Bin method\n",
    "    def bin(self):\n",
    "        try:\n",
    "\n",
    "        except Exception as e:\n",
    "            self.logging(e)\n",
    "    \n",
    "    #Defining Oct method\n",
    "    def oct(self):\n",
    "        try:\n",
    "            import numpy as np\n",
    "\n",
    "        except Exception as e:\n",
    "            self.logging(e)\n",
    "    \n",
    "    #Defining Hex method\n",
    "    def oct(self):\n",
    "        try:\n",
    "            import numpy as np\n",
    "\n",
    "        except Exception as e:\n",
    "            self.logging(e)  \n",
    "    \n",
    "    def logging(self, log):\n",
    "        import logging as lg\n",
    "        lg.basicConfig(filename='FindLCM.log', level=lg.ERROR)\n",
    "        lg.error(log)\n",
    "            \n",
    "                \n",
    "    "
   ]
  },
  {
   "cell_type": "markdown",
   "id": "bc023137",
   "metadata": {},
   "source": [
    "### Scipt solution"
   ]
  },
  {
   "cell_type": "code",
   "execution_count": 98,
   "id": "9223a9df",
   "metadata": {},
   "outputs": [],
   "source": [
    "def to_bin(*args):\n",
    "    l = []\n",
    "    for c, ar in enumerate(args):\n",
    "        l.append([])\n",
    "        quot = ar\n",
    "        while quot != 0:\n",
    "            l[c].append(ar%2)\n",
    "            quot = quot//2\n",
    "            ar = quot\n",
    "    for count, c in enumerate(l):\n",
    "        l_sub = l[count]\n",
    "        l_rev = l_sub[::-1]\n",
    "    return l_rev        "
   ]
  },
  {
   "cell_type": "code",
   "execution_count": 99,
   "id": "e04a8c51",
   "metadata": {},
   "outputs": [
    {
     "data": {
      "text/plain": [
       "[1, 1, 0, 1]"
      ]
     },
     "execution_count": 99,
     "metadata": {},
     "output_type": "execute_result"
    }
   ],
   "source": [
    "to_bin(13)\n"
   ]
  },
  {
   "cell_type": "code",
   "execution_count": 96,
   "id": "4919f842",
   "metadata": {},
   "outputs": [],
   "source": [
    "def to_oct(*args):\n",
    "    l = []\n",
    "    for c, ar in enumerate(args):\n",
    "        l.append([])\n",
    "        quot = ar\n",
    "        while quot != 0:\n",
    "            l[c].append(ar%8)\n",
    "            quot = quot//8\n",
    "            ar = quot\n",
    "    for count, c in enumerate(l):\n",
    "        l_sub = l[count]\n",
    "        l_rev = l_sub[::-1]\n",
    "        \n",
    "    return l_rev        "
   ]
  },
  {
   "cell_type": "code",
   "execution_count": 97,
   "id": "b656cd47",
   "metadata": {},
   "outputs": [
    {
     "data": {
      "text/plain": [
       "[1, 6, 6, 1, 2]"
      ]
     },
     "execution_count": 97,
     "metadata": {},
     "output_type": "execute_result"
    }
   ],
   "source": [
    "to_oct(7562)"
   ]
  },
  {
   "cell_type": "code",
   "execution_count": 100,
   "id": "4237e096",
   "metadata": {},
   "outputs": [],
   "source": [
    "def to_hex(*args):\n",
    "    l = []\n",
    "    for c, ar in enumerate(args):\n",
    "        l.append([])\n",
    "        quot = ar\n",
    "        while quot != 0:\n",
    "            l[c].append(ar%16)\n",
    "            quot = quot//16\n",
    "            ar = quot\n",
    "    for count, c in enumerate(l):\n",
    "        l_sub = l[count]\n",
    "        l_rev = l_sub[::-1]\n",
    "        \n",
    "    return l_rev"
   ]
  },
  {
   "cell_type": "code",
   "execution_count": 101,
   "id": "08831060",
   "metadata": {},
   "outputs": [
    {
     "data": {
      "text/plain": [
       "[1, 0, 0]"
      ]
     },
     "execution_count": 101,
     "metadata": {},
     "output_type": "execute_result"
    }
   ],
   "source": [
    "to_hex(256)"
   ]
  },
  {
   "cell_type": "markdown",
   "id": "0b6a1509",
   "metadata": {},
   "source": [
    "## 4. Write a Python Program To Find ASCII value of a character?"
   ]
  },
  {
   "cell_type": "markdown",
   "id": "4b5606ff",
   "metadata": {},
   "source": [
    "## 5. Write a Python Program to Make a Simple Calculator with 4 basic mathematical operations?"
   ]
  },
  {
   "cell_type": "code",
   "execution_count": 13,
   "id": "8e6b7c96",
   "metadata": {},
   "outputs": [],
   "source": [
    "class Simple_Calculator:\n",
    "    \"\"\"Simple Calculator class performs 4 kinds of basic mathematical operations.\n",
    "    \n",
    "    Simple Calculator has 4 methods:\n",
    "        * add -> for adding numbers\n",
    "        * subtract -> for subtracting numbers\n",
    "        * divide -> for dividing numbers\n",
    "        * multiply -> for multiplying numbers\n",
    "    \"\"\"\n",
    "    import logging as lg\n",
    "    lg.basicConfig(filename='SimpleCac.log', level=lg.ERROR)\n",
    "    \n",
    "    def __init__(self, number1):\n",
    "        self.number1 = number1\n",
    "    \n",
    "    def add(self, number2):\n",
    "        try:\n",
    "            self.addition = self.number1 + number2\n",
    "            return (self.addition)\n",
    "        except Exception as e:\n",
    "            self.logging(e)\n",
    "    \n",
    "    def subtract(self, number2):\n",
    "        try:\n",
    "            self.subtraction = self.number1 - number2\n",
    "            return (self.subtraction)\n",
    "        except Expcetion as e:\n",
    "            self.logging(e)\n",
    "    \n",
    "    def divide(self, number2):\n",
    "        try:\n",
    "            self.divide = self.number1 / number2\n",
    "            return (self.divide)\n",
    "        except Exception as e:\n",
    "            self.logging(e)\n",
    "    \n",
    "    def multiply(self, number2):\n",
    "        try:\n",
    "            self.multiply = self.number1 * number2\n",
    "            return (self.multiply)\n",
    "        except Exception as e:\n",
    "            self.logging(e)\n",
    "    \n",
    "    def logging(self,log):\n",
    "        lg.error(log)\n",
    "        "
   ]
  },
  {
   "cell_type": "code",
   "execution_count": null,
   "id": "d0876efd",
   "metadata": {},
   "outputs": [],
   "source": [
    "Simple_Calculator"
   ]
  }
 ],
 "metadata": {
  "kernelspec": {
   "display_name": "Python 3 (ipykernel)",
   "language": "python",
   "name": "python3"
  },
  "language_info": {
   "codemirror_mode": {
    "name": "ipython",
    "version": 3
   },
   "file_extension": ".py",
   "mimetype": "text/x-python",
   "name": "python",
   "nbconvert_exporter": "python",
   "pygments_lexer": "ipython3",
   "version": "3.9.7"
  }
 },
 "nbformat": 4,
 "nbformat_minor": 5
}
