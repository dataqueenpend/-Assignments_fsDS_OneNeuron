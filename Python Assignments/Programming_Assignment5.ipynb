{
 "cells": [
  {
   "cell_type": "markdown",
   "id": "2dcf6043",
   "metadata": {},
   "source": [
    "## 1. Write a Python Program to Find LCM?\n",
    "## 2. Write a Python Program to Find HCF?"
   ]
  },
  {
   "cell_type": "markdown",
   "id": "0efb63a6",
   "metadata": {},
   "source": [
    "### OOP Solution"
   ]
  },
  {
   "cell_type": "code",
   "execution_count": 40,
   "id": "ee779827",
   "metadata": {},
   "outputs": [],
   "source": [
    "import numpy as np\n",
    "import logging as lg"
   ]
  },
  {
   "cell_type": "code",
   "execution_count": 56,
   "id": "1232a7de",
   "metadata": {},
   "outputs": [],
   "source": [
    "class Finder:\n",
    "    \"\"\"Finder takes any number of integer and calculates with a methods:\n",
    "    * lcm - Least Common Multiple,\n",
    "    * hcf - Highest Common Factor.\n",
    "    \"\"\"\n",
    "    import logging as lg\n",
    "    lg.basicConfig(filename='FindLCM.log', level=lg.ERROR)\n",
    "    \n",
    "    def __init__(self, *args):\n",
    "        self.args = args\n",
    "    \n",
    "    #Defining LCM method\n",
    "    def lcm(self):\n",
    "        try:\n",
    "            import numpy as np\n",
    "            self.l = []\n",
    "            for c, ar in enumerate(self.args):\n",
    "                self.l.append([])\n",
    "                self.dividers = np.linspace(1, ar, ar)\n",
    "                for j in self.dividers:\n",
    "                    if ar % j == 0 and j != 1:\n",
    "                        self.l[c].append(j)\n",
    "            self.intersection = set.intersection(*map(set,self.l))\n",
    "            self.lcm = min(self.intersection)\n",
    "            return (self.lcm)\n",
    "        except Exception as e:\n",
    "            self.logging(e)\n",
    "    \n",
    "    #Defining HCF method\n",
    "    def hcf(self):\n",
    "        try:\n",
    "            import numpy as np\n",
    "            self.l = []\n",
    "            for c, ar in enumerate(self.args):\n",
    "                self.l.append([])\n",
    "                self.dividers = np.linspace(1, ar, ar)\n",
    "                for j in self.dividers:\n",
    "                    if ar % j == 0 and j != 1:\n",
    "                        self.l[c].append(j)\n",
    "            self.intersection = set.intersection(*map(set,self.l))\n",
    "            self.hcf = max(self.intersection)\n",
    "            return (self.hcf)\n",
    "        except Exception as e:\n",
    "            self.logging(e)        \n",
    "    \n",
    "    def logging(self, log):\n",
    "        import logging as lg\n",
    "        lg.basicConfig(filename='FindLCM.log', level=lg.ERROR)\n",
    "        lg.error(log)\n",
    "            \n",
    "                \n",
    "    "
   ]
  },
  {
   "cell_type": "code",
   "execution_count": 57,
   "id": "ec8ca874",
   "metadata": {},
   "outputs": [
    {
     "data": {
      "text/plain": [
       "(50.0, 3.0)"
      ]
     },
     "execution_count": 57,
     "metadata": {},
     "output_type": "execute_result"
    }
   ],
   "source": [
    "Finder(200,1050).hcf(), Finder(300, 123).lcm()"
   ]
  },
  {
   "cell_type": "markdown",
   "id": "b7201c25",
   "metadata": {},
   "source": [
    "### Script language solution"
   ]
  },
  {
   "cell_type": "code",
   "execution_count": 48,
   "id": "38b3a397",
   "metadata": {},
   "outputs": [],
   "source": [
    "def script_lcm_finder(*args):\n",
    "    import numpy as np\n",
    "    l = []\n",
    "    for c, ar in enumerate(args):\n",
    "        l.append([])\n",
    "        dividers = np.linspace(1, ar, ar)\n",
    "        for j in dividers:\n",
    "            if ar % j == 0 and j != 1:\n",
    "                l[c].append(j)\n",
    "                \n",
    "    intersection = set.intersection(*map(set,l))\n",
    "    lcm = min(intersection)  \n",
    "    \n",
    "    return lcm"
   ]
  },
  {
   "cell_type": "code",
   "execution_count": 49,
   "id": "4dd9d200",
   "metadata": {},
   "outputs": [
    {
     "data": {
      "text/plain": [
       "2.0"
      ]
     },
     "execution_count": 49,
     "metadata": {},
     "output_type": "execute_result"
    }
   ],
   "source": [
    "script_lcm_finder(1000, 200)"
   ]
  },
  {
   "cell_type": "code",
   "execution_count": 13,
   "id": "67f954b5",
   "metadata": {},
   "outputs": [],
   "source": [
    "def script_hcf_finder(*args):\n",
    "    import numpy as np\n",
    "    l = []\n",
    "    for c, ar in enumerate(args):\n",
    "        l.append([])\n",
    "        dividers = np.linspace(1, ar, ar)\n",
    "        for j in dividers:\n",
    "            if ar % j == 0 and j != 1:\n",
    "                l[c].append(j)\n",
    "                \n",
    "    intersection = set.intersection(*map(set,l))\n",
    "    hcf = max(intersection)  \n",
    "    \n",
    "    return hcf"
   ]
  },
  {
   "cell_type": "code",
   "execution_count": 15,
   "id": "b2ce287e",
   "metadata": {},
   "outputs": [
    {
     "data": {
      "text/plain": [
       "20.0"
      ]
     },
     "execution_count": 15,
     "metadata": {},
     "output_type": "execute_result"
    }
   ],
   "source": [
    "script_hcf_finder(100,60)"
   ]
  },
  {
   "cell_type": "markdown",
   "id": "172884d8",
   "metadata": {},
   "source": [
    "## 3. Write a Python Program to Convert Decimal to Binary, Octal and Hexadecimal?"
   ]
  },
  {
   "cell_type": "markdown",
   "id": "ba6faa7d",
   "metadata": {},
   "source": [
    "## 4. Write a Python Program To Find ASCII value of a character?"
   ]
  },
  {
   "cell_type": "markdown",
   "id": "4b5606ff",
   "metadata": {},
   "source": [
    "## 5. Write a Python Program to Make a Simple Calculator with 4 basic mathematical operations?"
   ]
  },
  {
   "cell_type": "code",
   "execution_count": 13,
   "id": "8e6b7c96",
   "metadata": {},
   "outputs": [],
   "source": [
    "class Simple_Calculator:\n",
    "    \"\"\"Simple Calculator class performs 4 kinds of basic mathematical operations.\n",
    "    \n",
    "    Simple Calculator has 4 methods:\n",
    "        * add -> for adding numbers\n",
    "        * subtract -> for subtracting numbers\n",
    "        * divide -> for dividing numbers\n",
    "        * multiply -> for multiplying numbers\n",
    "    \"\"\"\n",
    "    import logging as lg\n",
    "    lg.basicConfig(filename='SimpleCac.log', level=lg.ERROR)\n",
    "    \n",
    "    def __init__(self, number1):\n",
    "        self.number1 = number1\n",
    "    \n",
    "    def add(self, number2):\n",
    "        try:\n",
    "            self.addition = self.number1 + number2\n",
    "            return (self.addition)\n",
    "        except Exception as e:\n",
    "            self.logging(e)\n",
    "    \n",
    "    def subtract(self, number2):\n",
    "        try:\n",
    "            self.subtraction = self.number1 - number2\n",
    "            return (self.subtraction)\n",
    "        except Expcetion as e:\n",
    "            self.logging(e)\n",
    "    \n",
    "    def divide(self, number2):\n",
    "        try:\n",
    "            self.divide = self.number1 / number2\n",
    "            return (self.divide)\n",
    "        except Exception as e:\n",
    "            self.logging(e)\n",
    "    \n",
    "    def multiply(self, number2):\n",
    "        try:\n",
    "            self.multiply = self.number1 * number2\n",
    "            return (self.multiply)\n",
    "        except Exception as e:\n",
    "            self.logging(e)\n",
    "    \n",
    "    def logging(self,log):\n",
    "        lg.error(log)\n",
    "        "
   ]
  },
  {
   "cell_type": "code",
   "execution_count": null,
   "id": "d0876efd",
   "metadata": {},
   "outputs": [],
   "source": [
    "Simple_Calculator"
   ]
  }
 ],
 "metadata": {
  "kernelspec": {
   "display_name": "Python 3 (ipykernel)",
   "language": "python",
   "name": "python3"
  },
  "language_info": {
   "codemirror_mode": {
    "name": "ipython",
    "version": 3
   },
   "file_extension": ".py",
   "mimetype": "text/x-python",
   "name": "python",
   "nbconvert_exporter": "python",
   "pygments_lexer": "ipython3",
   "version": "3.9.7"
  }
 },
 "nbformat": 4,
 "nbformat_minor": 5
}
