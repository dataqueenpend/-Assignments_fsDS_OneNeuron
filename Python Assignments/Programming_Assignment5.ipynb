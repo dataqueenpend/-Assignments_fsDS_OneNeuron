{
 "cells": [
  {
   "cell_type": "markdown",
   "id": "2dcf6043",
   "metadata": {},
   "source": [
    "1. Write a Python Program to Find LCM?"
   ]
  },
  {
   "cell_type": "code",
   "execution_count": 46,
   "id": "1232a7de",
   "metadata": {},
   "outputs": [],
   "source": [
    "class LCM_Finder:\n",
    "    \"\"\"LCM_Finder takes any number of integer at calculates Least Common Multiple for the given numbers.\n",
    "    \"\"\"\n",
    "    import logging as lg\n",
    "    import numpy as np\n",
    "    lg.basicConfig(filename='FindLCM.log', level=lg.ERROR)\n",
    "    \n",
    "    def __init__(self, *args):\n",
    "        self.args = args\n",
    "    \n",
    "    def lcm(self):\n",
    "        try:\n",
    "            self.l = []\n",
    "            for c, ar in enumerate(self.args):\n",
    "                self.l.append([])\n",
    "                self.dividers = np.linspace(1, ar, ar)\n",
    "                for j in self.dividers:\n",
    "                    if ar % j == 0 and j != 1:\n",
    "                        self.l[c].append(j)\n",
    "            self.intersection = set.intersection(*map(set,self.l))\n",
    "            self.lcm = min(self.intersection)\n",
    "            \n",
    "            return (self.lcm)\n",
    "        except Exception as e:\n",
    "            self.logging(e)\n",
    "    \n",
    "    def logging(self, log):\n",
    "        lg.error(log)\n",
    "            \n",
    "                \n",
    "    "
   ]
  },
  {
   "cell_type": "code",
   "execution_count": 47,
   "id": "ec8ca874",
   "metadata": {},
   "outputs": [
    {
     "data": {
      "text/plain": [
       "3.0"
      ]
     },
     "execution_count": 47,
     "metadata": {},
     "output_type": "execute_result"
    }
   ],
   "source": [
    "LCM_Finder(3,6,9).lcm()"
   ]
  },
  {
   "cell_type": "code",
   "execution_count": 48,
   "id": "38b3a397",
   "metadata": {},
   "outputs": [],
   "source": [
    "\n",
    "def script_lcm_finder(*args):\n",
    "    import numpy as np\n",
    "    l = []\n",
    "    for c, ar in enumerate(args):\n",
    "        l.append([])\n",
    "        dividers = np.linspace(1, ar, ar)\n",
    "        for j in dividers:\n",
    "            if ar % j == 0 and j != 1:\n",
    "                l[c].append(j)\n",
    "                \n",
    "    intersection = set.intersection(*map(set,l))\n",
    "    lcm = min(intersection)  \n",
    "    \n",
    "    return lcm"
   ]
  },
  {
   "cell_type": "code",
   "execution_count": 49,
   "id": "4dd9d200",
   "metadata": {},
   "outputs": [
    {
     "data": {
      "text/plain": [
       "2.0"
      ]
     },
     "execution_count": 49,
     "metadata": {},
     "output_type": "execute_result"
    }
   ],
   "source": [
    "script_lcm_finder(1000, 200)"
   ]
  },
  {
   "cell_type": "markdown",
   "id": "4b5606ff",
   "metadata": {},
   "source": [
    "5. Write a Python Program to Make a Simple Calculator with 4 basic mathematical operations?"
   ]
  },
  {
   "cell_type": "code",
   "execution_count": 13,
   "id": "8e6b7c96",
   "metadata": {},
   "outputs": [],
   "source": [
    "class Simple_Calculator:\n",
    "    \"\"\"Simple Calculator class performs 4 kinds of basic mathematical operations.\n",
    "    \n",
    "    Simple Calculator has 4 methods:\n",
    "        * add -> for adding numbers\n",
    "        * subtract -> for subtracting numbers\n",
    "        * divide -> for dividing numbers\n",
    "        * multiply -> for multiplying numbers\n",
    "    \"\"\"\n",
    "    import logging as lg\n",
    "    lg.basicConfig(filename='SimpleCac.log', level=lg.ERROR)\n",
    "    \n",
    "    def __init__(self, number1):\n",
    "        self.number1 = number1\n",
    "    \n",
    "    def add(self, number2):\n",
    "        try:\n",
    "            self.addition = self.number1 + number2\n",
    "            return (self.addition)\n",
    "        except Exception as e:\n",
    "            self.logging(e)\n",
    "    \n",
    "    def subtract(self, number2):\n",
    "        try:\n",
    "            self.subtraction = self.number1 - number2\n",
    "            return (self.subtraction)\n",
    "        except Expcetion as e:\n",
    "            self.logging(e)\n",
    "    \n",
    "    def divide(self, number2):\n",
    "        try:\n",
    "            self.divide = self.number1 / number2\n",
    "            return (self.divide)\n",
    "        except Exception as e:\n",
    "            self.logging(e)\n",
    "    \n",
    "    def multiply(self, number2):\n",
    "        try:\n",
    "            self.multiply = self.number1 * number2\n",
    "            return (self.multiply)\n",
    "        except Exception as e:\n",
    "            self.logging(e)\n",
    "    \n",
    "    def logging(self,log):\n",
    "        lg.error(log)\n",
    "        "
   ]
  },
  {
   "cell_type": "code",
   "execution_count": null,
   "id": "d0876efd",
   "metadata": {},
   "outputs": [],
   "source": [
    "Simple_Calculator"
   ]
  }
 ],
 "metadata": {
  "kernelspec": {
   "display_name": "Python 3 (ipykernel)",
   "language": "python",
   "name": "python3"
  },
  "language_info": {
   "codemirror_mode": {
    "name": "ipython",
    "version": 3
   },
   "file_extension": ".py",
   "mimetype": "text/x-python",
   "name": "python",
   "nbconvert_exporter": "python",
   "pygments_lexer": "ipython3",
   "version": "3.9.7"
  }
 },
 "nbformat": 4,
 "nbformat_minor": 5
}
