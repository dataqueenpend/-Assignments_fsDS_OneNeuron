{
  "nbformat": 4,
  "nbformat_minor": 0,
  "metadata": {
    "colab": {
      "name": " Programming Assignment_1.ipynb",
      "provenance": [],
      "authorship_tag": "ABX9TyORNtJW4/YIcKUZLYwxWZqN",
      "include_colab_link": true
    },
    "kernelspec": {
      "name": "python3",
      "display_name": "Python 3"
    },
    "language_info": {
      "name": "python"
    }
  },
  "cells": [
    {
      "cell_type": "markdown",
      "metadata": {
        "id": "view-in-github",
        "colab_type": "text"
      },
      "source": [
        "<a href=\"https://colab.research.google.com/github/dataqueenpend/-Assignments_fsDS_OneNeuron/blob/main/Programming_Assignment_1.ipynb\" target=\"_parent\"><img src=\"https://colab.research.google.com/assets/colab-badge.svg\" alt=\"Open In Colab\"/></a>"
      ]
    },
    {
      "cell_type": "markdown",
      "source": [
        "Write a Python program to print \"Hello Python\"?\n",
        "\n"
      ],
      "metadata": {
        "id": "0MWHC9QMQ72i"
      }
    },
    {
      "cell_type": "code",
      "execution_count": 1,
      "metadata": {
        "id": "3bPdP78fQ3-2"
      },
      "outputs": [],
      "source": [
        "def hello():\n",
        "  print('Hello Python')"
      ]
    },
    {
      "cell_type": "code",
      "source": [
        "hello()"
      ],
      "metadata": {
        "colab": {
          "base_uri": "https://localhost:8080/"
        },
        "id": "IwqtVc4DRLFY",
        "outputId": "13a2a9b5-5ce6-43b2-8b4b-45678967bbf8"
      },
      "execution_count": 2,
      "outputs": [
        {
          "output_type": "stream",
          "name": "stdout",
          "text": [
            "Hello Python\n"
          ]
        }
      ]
    },
    {
      "cell_type": "markdown",
      "source": [
        "Write a Python program to do arithmetical operations addition and division.?\n"
      ],
      "metadata": {
        "id": "E9DsP5S8Q-IG"
      }
    },
    {
      "cell_type": "code",
      "source": [
        "def add_div():\n",
        "  typ = input('Addition or division? (Type a or d): ')\n",
        "  num1 = int(input('Type first number: '))\n",
        "  num2 = int(input('Type second number: '))\n",
        "  if typ == 'a':\n",
        "    addition = num1+num2\n",
        "    print('Your result is: {}'.format(addition))\n",
        "  else:\n",
        "    division = num1/num2\n",
        "    print('Your result is: {}'.format(division))\n",
        "\n"
      ],
      "metadata": {
        "id": "ZCeCB73CREA-"
      },
      "execution_count": 10,
      "outputs": []
    },
    {
      "cell_type": "code",
      "source": [
        "add_div()"
      ],
      "metadata": {
        "colab": {
          "base_uri": "https://localhost:8080/"
        },
        "id": "lkNNVZcOTBYj",
        "outputId": "ca03340a-6628-4844-9ac9-bdc580cca4f5"
      },
      "execution_count": 11,
      "outputs": [
        {
          "output_type": "stream",
          "name": "stdout",
          "text": [
            "Addition or division? (Type a or d): d\n",
            "Type first number: 4\n",
            "Type second number: 2\n",
            "Your result is: 2.0\n"
          ]
        }
      ]
    },
    {
      "cell_type": "markdown",
      "source": [
        "Write a Python program to find the area of a triangle?\n"
      ],
      "metadata": {
        "id": "VVoeKzSdQ_JG"
      }
    },
    {
      "cell_type": "code",
      "source": [
        "def triangle_area():\n",
        "  side = int(input('Type length of the side of the triangle: '))\n",
        "  height = int(input('Type height of the triangle: '))\n",
        "\n",
        "  area = (1/2 * side) * height\n",
        "  print('Area of your triangle is: {}'.format(area))"
      ],
      "metadata": {
        "id": "pW7cPrJxREi3"
      },
      "execution_count": 14,
      "outputs": []
    },
    {
      "cell_type": "code",
      "source": [
        "triangle_area()"
      ],
      "metadata": {
        "colab": {
          "base_uri": "https://localhost:8080/"
        },
        "id": "vjg3BU8sUhcZ",
        "outputId": "87d77a92-8ce8-417b-8b16-49c181590d01"
      },
      "execution_count": 13,
      "outputs": [
        {
          "output_type": "stream",
          "name": "stdout",
          "text": [
            "Type length of the side of the triangle: 2\n",
            "Type height of the triangle: 3\n",
            "Area of your traingle is: 3.0\n"
          ]
        }
      ]
    },
    {
      "cell_type": "markdown",
      "source": [
        "Write a Python program to swap two variables?\n"
      ],
      "metadata": {
        "id": "tzKLNhq7Q_9F"
      }
    },
    {
      "cell_type": "code",
      "source": [
        "def swap_vars(x,y):\n",
        "  x,y = y, x\n",
        "  return x, y"
      ],
      "metadata": {
        "id": "v5NxXDCARE_-"
      },
      "execution_count": 28,
      "outputs": []
    },
    {
      "cell_type": "code",
      "source": [
        "x = 1\n",
        "y = 2"
      ],
      "metadata": {
        "id": "5QZq55XrVBjQ"
      },
      "execution_count": 29,
      "outputs": []
    },
    {
      "cell_type": "code",
      "source": [
        "swap_vars(x,y)"
      ],
      "metadata": {
        "colab": {
          "base_uri": "https://localhost:8080/"
        },
        "id": "RJpS7IcQVDk3",
        "outputId": "fecfc638-bfbd-44e8-9a19-348e705a1c6f"
      },
      "execution_count": 30,
      "outputs": [
        {
          "output_type": "execute_result",
          "data": {
            "text/plain": [
              "(2, 1)"
            ]
          },
          "metadata": {},
          "execution_count": 30
        }
      ]
    },
    {
      "cell_type": "markdown",
      "source": [
        "Write a Python program to generate a random number?"
      ],
      "metadata": {
        "id": "AV-V2Vt9RDJu"
      }
    },
    {
      "cell_type": "code",
      "source": [
        "def random_generator():\n",
        "  from random import random\n",
        "  number = random()\n",
        "  return number"
      ],
      "metadata": {
        "id": "c1enztUcRFfk"
      },
      "execution_count": 36,
      "outputs": []
    },
    {
      "cell_type": "code",
      "source": [
        "random_generator()"
      ],
      "metadata": {
        "colab": {
          "base_uri": "https://localhost:8080/"
        },
        "id": "_1-Uzp8ha_jy",
        "outputId": "2b84d432-c31f-4e83-eb95-53de26c3bad4"
      },
      "execution_count": 37,
      "outputs": [
        {
          "output_type": "execute_result",
          "data": {
            "text/plain": [
              "0.8464625333574723"
            ]
          },
          "metadata": {},
          "execution_count": 37
        }
      ]
    }
  ]
}
