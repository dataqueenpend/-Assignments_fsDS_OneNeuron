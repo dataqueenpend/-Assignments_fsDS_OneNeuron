{
  "nbformat": 4,
  "nbformat_minor": 0,
  "metadata": {
    "colab": {
      "name": "Assignment 4.ipynb",
      "provenance": [],
      "collapsed_sections": [],
      "authorship_tag": "ABX9TyOPPLSvUkw6gQ224Os4we96",
      "include_colab_link": true
    },
    "kernelspec": {
      "name": "python3",
      "display_name": "Python 3"
    },
    "language_info": {
      "name": "python"
    }
  },
  "cells": [
    {
      "cell_type": "markdown",
      "metadata": {
        "id": "view-in-github",
        "colab_type": "text"
      },
      "source": [
        "<a href=\"https://colab.research.google.com/github/dataqueenpend/-Assignments_fsDS_OneNeuron/blob/main/Assignment_4.ipynb\" target=\"_parent\"><img src=\"https://colab.research.google.com/assets/colab-badge.svg\" alt=\"Open In Colab\"/></a>"
      ]
    },
    {
      "cell_type": "markdown",
      "source": [
        "1. Write a Python Program to Find the Factorial of a Number?\n"
      ],
      "metadata": {
        "id": "7vwI6auA4gEz"
      }
    },
    {
      "cell_type": "code",
      "source": [
        "def find_factorial():\n",
        "  num = int(input('Type a number: '))\n",
        "  result = 1\n",
        "  for i in range(num):\n",
        "    result *= (i+1)\n",
        "  return result \n"
      ],
      "metadata": {
        "id": "4EPFvmQn4sdZ"
      },
      "execution_count": 1,
      "outputs": []
    },
    {
      "cell_type": "code",
      "source": [
        "find_factorial()\n"
      ],
      "metadata": {
        "colab": {
          "base_uri": "https://localhost:8080/"
        },
        "id": "z0jdmVmE6EBH",
        "outputId": "108e9ef1-8522-47a5-ad70-8eb7791c394e"
      },
      "execution_count": 2,
      "outputs": [
        {
          "name": "stdout",
          "output_type": "stream",
          "text": [
            "Type a number: 2\n"
          ]
        },
        {
          "output_type": "execute_result",
          "data": {
            "text/plain": [
              "2"
            ]
          },
          "metadata": {},
          "execution_count": 2
        }
      ]
    },
    {
      "cell_type": "markdown",
      "source": [
        "2. Write a Python Program to Display the multiplication Table?\n"
      ],
      "metadata": {
        "id": "ihLJCQjI4icx"
      }
    },
    {
      "cell_type": "code",
      "source": [
        "def multi_table():\n",
        "  for i in range(1,12):\n",
        "    print('\\r')\n",
        "    for j in range(1, 11):\n",
        "      print(repr(i*j).rjust(4), end=' ')\n",
        "  for i in range(1, 11):\n",
        "      print('\\r', end=' ')"
      ],
      "metadata": {
        "id": "wgRwIG3xSbgf"
      },
      "execution_count": 3,
      "outputs": []
    },
    {
      "cell_type": "code",
      "source": [
        "multi_table()"
      ],
      "metadata": {
        "colab": {
          "base_uri": "https://localhost:8080/"
        },
        "id": "PPTk1pNQT9Sq",
        "outputId": "9479f19a-e223-4c43-f7d3-71945474a126"
      },
      "execution_count": 4,
      "outputs": [
        {
          "output_type": "stream",
          "name": "stdout",
          "text": [
            "\r\n",
            "   1    2    3    4    5    6    7    8    9   10 \r\n",
            "   2    4    6    8   10   12   14   16   18   20 \r\n",
            "   3    6    9   12   15   18   21   24   27   30 \r\n",
            "   4    8   12   16   20   24   28   32   36   40 \r\n",
            "   5   10   15   20   25   30   35   40   45   50 \r\n",
            "   6   12   18   24   30   36   42   48   54   60 \r\n",
            "   7   14   21   28   35   42   49   56   63   70 \r\n",
            "   8   16   24   32   40   48   56   64   72   80 \r\n",
            "   9   18   27   36   45   54   63   72   81   90 \r\n",
            "  10   20   30   40   50   60   70   80   90  100 \r\n",
            "  11   22   33   44   55   66   77   88   99  110 \r \r \r \r \r \r \r \r \r \r "
          ]
        }
      ]
    },
    {
      "cell_type": "markdown",
      "source": [
        "3. Write a Python Program to Print the Fibonacci sequence?\n"
      ],
      "metadata": {
        "id": "xdqfaCyS4jqx"
      }
    },
    {
      "cell_type": "code",
      "source": [
        "def fibon_seq():\n",
        "  num = int(input('Type number of elements in Fibonnacci sequence: '))\n",
        "  l = [1]\n",
        "  for i in range(num):\n",
        "    result = l[i] + l[i-1]\n",
        "    l.append(result)\n",
        "  return l\n"
      ],
      "metadata": {
        "id": "LvLisS6vnOP3"
      },
      "execution_count": 5,
      "outputs": []
    },
    {
      "cell_type": "code",
      "source": [
        "fibon_seq()"
      ],
      "metadata": {
        "colab": {
          "base_uri": "https://localhost:8080/"
        },
        "id": "8b_nyxfUq9VW",
        "outputId": "d469ee3e-c8ba-4da8-dad7-4011e36d1ff4"
      },
      "execution_count": 6,
      "outputs": [
        {
          "name": "stdout",
          "output_type": "stream",
          "text": [
            "Type number of elements in Fibonnacci sequence: 3\n"
          ]
        },
        {
          "output_type": "execute_result",
          "data": {
            "text/plain": [
              "[1, 2, 3, 5]"
            ]
          },
          "metadata": {},
          "execution_count": 6
        }
      ]
    },
    {
      "cell_type": "markdown",
      "source": [
        "4. Write a Python Program to Check Armstrong Number?\n"
      ],
      "metadata": {
        "id": "RkvGB-c54ktR"
      }
    },
    {
      "cell_type": "code",
      "source": [
        "def check_if_armstrong():\n",
        "  num = input('Type a number to check if it\\'s an Armstrong Number: ')\n",
        "  lst = [i for i in num]\n",
        "  sqrt = [int(i)**len(lst) for i in lst]\n",
        "  sm = sum(sqrt)\n",
        "  if sm == int(num):\n",
        "    return True\n",
        "  else:\n",
        "    return False\n",
        "  "
      ],
      "metadata": {
        "id": "L7C-spGSuX06"
      },
      "execution_count": 7,
      "outputs": []
    },
    {
      "cell_type": "code",
      "source": [
        "check_if_armstrong()"
      ],
      "metadata": {
        "colab": {
          "base_uri": "https://localhost:8080/"
        },
        "id": "jcsNQerHxczS",
        "outputId": "addfb6d5-f28a-48d0-e4f2-6ff63523f26d"
      },
      "execution_count": 8,
      "outputs": [
        {
          "name": "stdout",
          "output_type": "stream",
          "text": [
            "Type a number to check if it's an Armstrong Number: 3\n"
          ]
        },
        {
          "output_type": "execute_result",
          "data": {
            "text/plain": [
              "True"
            ]
          },
          "metadata": {},
          "execution_count": 8
        }
      ]
    },
    {
      "cell_type": "markdown",
      "source": [
        "5. Write a Python Program to Find Armstrong Number in an Interval?\n",
        "?"
      ],
      "metadata": {
        "id": "amsYXxvN4l4C"
      }
    },
    {
      "cell_type": "code",
      "source": [
        "def armstrong_in_interval(x,y):\n",
        "  range = range(x,y)\n",
        "  for i in range:\n",
        "    for j in range(i):\n",
        "      #sqrt = []\n",
        "      sqrt = [int(j)**len(str(i)) for j in i]\n",
        "      #sqrt.append(list((j))**len(list(i)))\n",
        "      sm = sum(sqrt)\n",
        "      if sm == int(i):\n",
        "        yield i\n",
        "  "
      ],
      "metadata": {
        "id": "26NvVYcycIt_"
      },
      "execution_count": 34,
      "outputs": []
    },
    {
      "cell_type": "code",
      "source": [
        "x = range(0,10)"
      ],
      "metadata": {
        "id": "s6Mqe8qp1yx1"
      },
      "execution_count": 20,
      "outputs": []
    },
    {
      "cell_type": "code",
      "source": [
        "lst_nums = []\n",
        "for i in x:\n",
        "  lst_nums.append(i)\n",
        "\n",
        "for i in lst_nums:\n",
        "  sqrt = [int(i)**len(str(i)) for \n",
        "  sm = sum(sqrt)\n"
      ],
      "metadata": {
        "colab": {
          "base_uri": "https://localhost:8080/",
          "height": 201
        },
        "id": "fdCky_nQ1NTv",
        "outputId": "dc43a6b9-3306-482e-8567-f21f8c9ec355"
      },
      "execution_count": 32,
      "outputs": [
        {
          "output_type": "error",
          "ename": "TypeError",
          "evalue": "ignored",
          "traceback": [
            "\u001b[0;31m---------------------------------------------------------------------------\u001b[0m",
            "\u001b[0;31mTypeError\u001b[0m                                 Traceback (most recent call last)",
            "\u001b[0;32m<ipython-input-32-b025951c9a18>\u001b[0m in \u001b[0;36m<module>\u001b[0;34m()\u001b[0m\n\u001b[1;32m      5\u001b[0m \u001b[0;32mfor\u001b[0m \u001b[0mi\u001b[0m \u001b[0;32min\u001b[0m \u001b[0mlst_nums\u001b[0m\u001b[0;34m:\u001b[0m\u001b[0;34m\u001b[0m\u001b[0;34m\u001b[0m\u001b[0m\n\u001b[1;32m      6\u001b[0m   \u001b[0msqrt\u001b[0m \u001b[0;34m=\u001b[0m \u001b[0mint\u001b[0m\u001b[0;34m(\u001b[0m\u001b[0mi\u001b[0m\u001b[0;34m)\u001b[0m\u001b[0;34m**\u001b[0m\u001b[0mlen\u001b[0m\u001b[0;34m(\u001b[0m\u001b[0mstr\u001b[0m\u001b[0;34m(\u001b[0m\u001b[0mi\u001b[0m\u001b[0;34m)\u001b[0m\u001b[0;34m)\u001b[0m\u001b[0;34m\u001b[0m\u001b[0;34m\u001b[0m\u001b[0m\n\u001b[0;32m----> 7\u001b[0;31m   \u001b[0msm\u001b[0m \u001b[0;34m=\u001b[0m \u001b[0msum\u001b[0m\u001b[0;34m(\u001b[0m\u001b[0msqrt\u001b[0m\u001b[0;34m)\u001b[0m\u001b[0;34m\u001b[0m\u001b[0;34m\u001b[0m\u001b[0m\n\u001b[0m",
            "\u001b[0;31mTypeError\u001b[0m: 'int' object is not iterable"
          ]
        }
      ]
    },
    {
      "cell_type": "code",
      "source": [
        "armstrong_in_interval(0,10)"
      ],
      "metadata": {
        "colab": {
          "base_uri": "https://localhost:8080/"
        },
        "id": "E_WGwnyfc9gh",
        "outputId": "a91356a3-6cae-4c4c-f71d-9ee587323e15"
      },
      "execution_count": 35,
      "outputs": [
        {
          "output_type": "execute_result",
          "data": {
            "text/plain": [
              "<generator object armstrong_in_interval at 0x7f875e880f50>"
            ]
          },
          "metadata": {},
          "execution_count": 35
        }
      ]
    },
    {
      "cell_type": "code",
      "source": [
        "for i in armstrong_in_interval(0,10):\n",
        "  print(i)"
      ],
      "metadata": {
        "colab": {
          "base_uri": "https://localhost:8080/",
          "height": 305
        },
        "id": "bz0nHJJe_N8L",
        "outputId": "241e6b86-20df-4fb5-9345-6e7249598016"
      },
      "execution_count": 36,
      "outputs": [
        {
          "output_type": "error",
          "ename": "UnboundLocalError",
          "evalue": "ignored",
          "traceback": [
            "\u001b[0;31m---------------------------------------------------------------------------\u001b[0m",
            "\u001b[0;31mUnboundLocalError\u001b[0m                         Traceback (most recent call last)",
            "\u001b[0;32m<ipython-input-36-254cabd61118>\u001b[0m in \u001b[0;36m<module>\u001b[0;34m()\u001b[0m\n\u001b[0;32m----> 1\u001b[0;31m \u001b[0;32mfor\u001b[0m \u001b[0mi\u001b[0m \u001b[0;32min\u001b[0m \u001b[0marmstrong_in_interval\u001b[0m\u001b[0;34m(\u001b[0m\u001b[0;36m0\u001b[0m\u001b[0;34m,\u001b[0m\u001b[0;36m10\u001b[0m\u001b[0;34m)\u001b[0m\u001b[0;34m:\u001b[0m\u001b[0;34m\u001b[0m\u001b[0;34m\u001b[0m\u001b[0m\n\u001b[0m\u001b[1;32m      2\u001b[0m   \u001b[0mprint\u001b[0m\u001b[0;34m(\u001b[0m\u001b[0mi\u001b[0m\u001b[0;34m)\u001b[0m\u001b[0;34m\u001b[0m\u001b[0;34m\u001b[0m\u001b[0m\n",
            "\u001b[0;32m<ipython-input-34-2eaa5267ada0>\u001b[0m in \u001b[0;36marmstrong_in_interval\u001b[0;34m(x, y)\u001b[0m\n\u001b[1;32m      1\u001b[0m \u001b[0;32mdef\u001b[0m \u001b[0marmstrong_in_interval\u001b[0m\u001b[0;34m(\u001b[0m\u001b[0mx\u001b[0m\u001b[0;34m,\u001b[0m\u001b[0my\u001b[0m\u001b[0;34m)\u001b[0m\u001b[0;34m:\u001b[0m\u001b[0;34m\u001b[0m\u001b[0;34m\u001b[0m\u001b[0m\n\u001b[0;32m----> 2\u001b[0;31m   \u001b[0mrange\u001b[0m \u001b[0;34m=\u001b[0m \u001b[0mrange\u001b[0m\u001b[0;34m(\u001b[0m\u001b[0mx\u001b[0m\u001b[0;34m,\u001b[0m\u001b[0my\u001b[0m\u001b[0;34m)\u001b[0m\u001b[0;34m\u001b[0m\u001b[0;34m\u001b[0m\u001b[0m\n\u001b[0m\u001b[1;32m      3\u001b[0m   \u001b[0;32mfor\u001b[0m \u001b[0mi\u001b[0m \u001b[0;32min\u001b[0m \u001b[0mrange\u001b[0m\u001b[0;34m:\u001b[0m\u001b[0;34m\u001b[0m\u001b[0;34m\u001b[0m\u001b[0m\n\u001b[1;32m      4\u001b[0m     \u001b[0;32mfor\u001b[0m \u001b[0mj\u001b[0m \u001b[0;32min\u001b[0m \u001b[0mrange\u001b[0m\u001b[0;34m(\u001b[0m\u001b[0mi\u001b[0m\u001b[0;34m)\u001b[0m\u001b[0;34m:\u001b[0m\u001b[0;34m\u001b[0m\u001b[0;34m\u001b[0m\u001b[0m\n\u001b[1;32m      5\u001b[0m       \u001b[0;31m#sqrt = []\u001b[0m\u001b[0;34m\u001b[0m\u001b[0;34m\u001b[0m\u001b[0;34m\u001b[0m\u001b[0m\n",
            "\u001b[0;31mUnboundLocalError\u001b[0m: local variable 'range' referenced before assignment"
          ]
        }
      ]
    },
    {
      "cell_type": "code",
      "source": [
        "lst = lst.append(1)"
      ],
      "metadata": {
        "id": "5EJ0iiiAAqXX"
      },
      "execution_count": null,
      "outputs": []
    },
    {
      "cell_type": "markdown",
      "source": [
        "6. Write a Python Program to Find the Sum of Natural Numbers"
      ],
      "metadata": {
        "id": "Oi5A72bZ4nII"
      }
    },
    {
      "cell_type": "code",
      "execution_count": 15,
      "metadata": {
        "id": "b8cOLXyr4fMZ"
      },
      "outputs": [],
      "source": [
        "def add_natural_num(*args):\n",
        "  for i in args:\n",
        "    if i >= 0 and type(i) == int:\n",
        "      result = sum(args)\n",
        "    else:\n",
        "      raise Exception('{} is not a natural number.\\n Try again and type integer which is bigger than 0.'.format(i))\n",
        "  return result"
      ]
    },
    {
      "cell_type": "code",
      "source": [
        "add_natural_num(2,3)"
      ],
      "metadata": {
        "colab": {
          "base_uri": "https://localhost:8080/"
        },
        "id": "84ksvLmZyG4q",
        "outputId": "227c2b53-e120-440b-b7c8-c76253221bea"
      },
      "execution_count": 16,
      "outputs": [
        {
          "output_type": "execute_result",
          "data": {
            "text/plain": [
              "5"
            ]
          },
          "metadata": {},
          "execution_count": 16
        }
      ]
    }
  ]
}
