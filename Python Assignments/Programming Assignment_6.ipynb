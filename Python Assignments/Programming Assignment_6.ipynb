{
 "cells": [
  {
   "cell_type": "markdown",
   "id": "a048cf81",
   "metadata": {},
   "source": [
    "Write a Python Program to Display Fibonacci Sequence Using Recursion?\n",
    "Write a Python Program to Find Factorial of Number Using Recursion?"
   ]
  },
  {
   "cell_type": "code",
   "execution_count": null,
   "id": "88787686",
   "metadata": {},
   "outputs": [],
   "source": [
    "Write a Python Program to calculate the natural logarithm of any number?\n",
    "Write a Python Program for cube sum of first n natural numbers?"
   ]
  },
  {
   "cell_type": "code",
   "execution_count": 32,
   "id": "da4ee467",
   "metadata": {},
   "outputs": [],
   "source": [
    "class Calculate:\n",
    "    def log(num):\n",
    "        import numpy as np\n",
    "        log_calculation = np.log(num)\n",
    "        return log_calculation\n",
    "    \n",
    "    def cube_sum(*args):\n",
    "        \"\"\"Takes only positive integers from 1 to infinity. Returns cube sum of inputted natural numbers.\"\"\"\n",
    "        cube_summary = "
   ]
  },
  {
   "cell_type": "code",
   "execution_count": 33,
   "id": "b525ed0f",
   "metadata": {},
   "outputs": [
    {
     "data": {
      "text/plain": [
       "1.0986122886681098"
      ]
     },
     "execution_count": 33,
     "metadata": {},
     "output_type": "execute_result"
    }
   ],
   "source": [
    "Calculate.log(3)"
   ]
  },
  {
   "cell_type": "markdown",
   "id": "355f3216",
   "metadata": {},
   "source": [
    "Write a Python Program to calculate your Body Mass Index?"
   ]
  },
  {
   "cell_type": "code",
   "execution_count": 23,
   "id": "ec95098c",
   "metadata": {},
   "outputs": [],
   "source": [
    "class BMI:\n",
    "    def __init__(self, weight, height):\n",
    "        self.weight = weight\n",
    "        self.height = height\n",
    "    \n",
    "    def my(self):\n",
    "        bmi = (self.weight/(self.height)**2)*10000\n",
    "        return bmi"
   ]
  },
  {
   "cell_type": "code",
   "execution_count": 26,
   "id": "fb746fd7",
   "metadata": {},
   "outputs": [
    {
     "data": {
      "text/plain": [
       "18.424036281179138"
      ]
     },
     "execution_count": 26,
     "metadata": {},
     "output_type": "execute_result"
    }
   ],
   "source": [
    "BMI(52, 168).my()"
   ]
  }
 ],
 "metadata": {
  "kernelspec": {
   "display_name": "Python 3 (ipykernel)",
   "language": "python",
   "name": "python3"
  },
  "language_info": {
   "codemirror_mode": {
    "name": "ipython",
    "version": 3
   },
   "file_extension": ".py",
   "mimetype": "text/x-python",
   "name": "python",
   "nbconvert_exporter": "python",
   "pygments_lexer": "ipython3",
   "version": "3.9.12"
  }
 },
 "nbformat": 4,
 "nbformat_minor": 5
}
